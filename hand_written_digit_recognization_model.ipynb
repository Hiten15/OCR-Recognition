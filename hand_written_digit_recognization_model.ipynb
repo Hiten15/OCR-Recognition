{
 "cells": [
  {
   "cell_type": "markdown",
   "metadata": {},
   "source": [
    "Model to predict hand written digit. We will use sklearn load_digits to load readily available dataset from sklearn library and train our classifier using that information. \n",
    "we will use three ml models -1)logistic regression. 2) SVM . 3) Random Forest\n"
   ]
  },
  {
   "cell_type": "markdown",
   "metadata": {},
   "source": [
    "Method -1 -- Logistic Regression model"
   ]
  },
  {
   "cell_type": "code",
   "execution_count": 3,
   "metadata": {},
   "outputs": [],
   "source": [
    "import matplotlib.pyplot as plt\n",
    "from sklearn.datasets import load_digits"
   ]
  },
  {
   "cell_type": "code",
   "execution_count": 4,
   "metadata": {},
   "outputs": [],
   "source": [
    "digits = load_digits()"
   ]
  },
  {
   "cell_type": "code",
   "execution_count": 5,
   "metadata": {},
   "outputs": [
    {
     "data": {
      "text/plain": [
       "['DESCR', 'data', 'feature_names', 'frame', 'images', 'target', 'target_names']"
      ]
     },
     "execution_count": 5,
     "metadata": {},
     "output_type": "execute_result"
    }
   ],
   "source": [
    "dir(digits)"
   ]
  },
  {
   "cell_type": "code",
   "execution_count": 6,
   "metadata": {},
   "outputs": [
    {
     "data": {
      "text/plain": [
       "array([ 0.,  0.,  5., 13.,  9.,  1.,  0.,  0.,  0.,  0., 13., 15., 10.,\n",
       "       15.,  5.,  0.,  0.,  3., 15.,  2.,  0., 11.,  8.,  0.,  0.,  4.,\n",
       "       12.,  0.,  0.,  8.,  8.,  0.,  0.,  5.,  8.,  0.,  0.,  9.,  8.,\n",
       "        0.,  0.,  4., 11.,  0.,  1., 12.,  7.,  0.,  0.,  2., 14.,  5.,\n",
       "       10., 12.,  0.,  0.,  0.,  0.,  6., 13., 10.,  0.,  0.,  0.])"
      ]
     },
     "execution_count": 6,
     "metadata": {},
     "output_type": "execute_result"
    }
   ],
   "source": [
    "digits.data[0]"
   ]
  },
  {
   "cell_type": "code",
   "execution_count": 7,
   "metadata": {},
   "outputs": [
    {
     "data": {
      "text/plain": [
       "<Figure size 432x288 with 0 Axes>"
      ]
     },
     "metadata": {},
     "output_type": "display_data"
    },
    {
     "data": {
      "image/png": "[encoded data removed]",
      "text/plain": [
       "<Figure size 288x288 with 1 Axes>"
      ]
     },
     "metadata": {
      "needs_background": "light"
     },
     "output_type": "display_data"
    },
    {
     "data": {
      "image/png": "[encoded data removed]",
      "text/plain": [
       "<Figure size 288x288 with 1 Axes>"
      ]
     },
     "metadata": {
      "needs_background": "light"
     },
     "output_type": "display_data"
    },
    {
     "data": {
      "image/png": "[encoded data removed]",
      "text/plain": [
       "<Figure size 288x288 with 1 Axes>"
      ]
     },
     "metadata": {
      "needs_background": "light"
     },
     "output_type": "display_data"
    },
    {
     "data": {
      "image/png": "[encoded data removed]",
      "text/plain": [
       "<Figure size 288x288 with 1 Axes>"
      ]
     },
     "metadata": {
      "needs_background": "light"
     },
     "output_type": "display_data"
    },
    {
     "data": {
      "image/png": "[encoded data removed]",
      "text/plain": [
       "<Figure size 288x288 with 1 Axes>"
      ]
     },
     "metadata": {
      "needs_background": "light"
     },
     "output_type": "display_data"
    }
   ],
   "source": [
    "plt.gray()\n",
    "for i in range(5):\n",
    "    plt.matshow(digits.images[i])"
   ]
  },
  {
   "cell_type": "code",
   "execution_count": 8,
   "metadata": {},
   "outputs": [
    {
     "data": {
      "text/plain": [
       "array([0, 1, 2, 3, 4])"
      ]
     },
     "execution_count": 8,
     "metadata": {},
     "output_type": "execute_result"
    }
   ],
   "source": [
    "digits.target[0:5]"
   ]
  },
  {
   "cell_type": "code",
   "execution_count": 9,
   "metadata": {},
   "outputs": [],
   "source": [
    "from sklearn.model_selection import train_test_split"
   ]
  },
  {
   "cell_type": "code",
   "execution_count": 10,
   "metadata": {},
   "outputs": [],
   "source": [
    "X_train,X_test,y_train,y_test = train_test_split(digits.data,digits.target,test_size=0.2)"
   ]
  },
  {
   "cell_type": "code",
   "execution_count": 11,
   "metadata": {},
   "outputs": [
    {
     "data": {
      "text/plain": [
       "1437"
      ]
     },
     "execution_count": 11,
     "metadata": {},
     "output_type": "execute_result"
    }
   ],
   "source": [
    "len(X_train)"
   ]
  },
  {
   "cell_type": "code",
   "execution_count": 12,
   "metadata": {},
   "outputs": [
    {
     "data": {
      "text/plain": [
       "360"
      ]
     },
     "execution_count": 12,
     "metadata": {},
     "output_type": "execute_result"
    }
   ],
   "source": [
    "len(X_test)"
   ]
  },
  {
   "cell_type": "code",
   "execution_count": 13,
   "metadata": {},
   "outputs": [],
   "source": [
    "from sklearn import linear_model\n",
    "reg = linear_model.LogisticRegression()\n"
   ]
  },
  {
   "cell_type": "code",
   "execution_count": 14,
   "metadata": {},
   "outputs": [
    {
     "name": "stderr",
     "output_type": "stream",
     "text": [
      "c:\\Users\\Stran\\anaconda3\\envs\\myenv\\lib\\site-packages\\sklearn\\linear_model\\_logistic.py:765: ConvergenceWarning: lbfgs failed to converge (status=1):\n",
      "STOP: TOTAL NO. of ITERATIONS REACHED LIMIT.\n",
      "\n",
      "Increase the number of iterations (max_iter) or scale the data as shown in:\n",
      "    https://scikit-learn.org/stable/modules/preprocessing.html\n",
      "Please also refer to the documentation for alternative solver options:\n",
      "    https://scikit-learn.org/stable/modules/linear_model.html#logistic-regression\n",
      "  extra_warning_msg=_LOGISTIC_SOLVER_CONVERGENCE_MSG)\n"
     ]
    },
    {
     "data": {
      "text/plain": [
       "LogisticRegression()"
      ]
     },
     "execution_count": 14,
     "metadata": {},
     "output_type": "execute_result"
    }
   ],
   "source": [
    "reg.fit(X_train,y_train)"
   ]
  },
  {
   "cell_type": "code",
   "execution_count": 15,
   "metadata": {},
   "outputs": [
    {
     "data": {
      "text/plain": [
       "0.9666666666666667"
      ]
     },
     "execution_count": 15,
     "metadata": {},
     "output_type": "execute_result"
    }
   ],
   "source": [
    "reg.score(X_test, y_test)"
   ]
  },
  {
   "cell_type": "code",
   "execution_count": 35,
   "metadata": {},
   "outputs": [
    {
     "data": {
      "text/plain": [
       "array([8])"
      ]
     },
     "execution_count": 35,
     "metadata": {},
     "output_type": "execute_result"
    }
   ],
   "source": [
    "reg.predict(digits.data[[40]])"
   ]
  },
  {
   "cell_type": "code",
   "execution_count": 36,
   "metadata": {},
   "outputs": [
    {
     "data": {
      "text/plain": [
       "<matplotlib.image.AxesImage at 0x2c7f6b89710>"
      ]
     },
     "execution_count": 36,
     "metadata": {},
     "output_type": "execute_result"
    },
    {
     "data": {
      "image/png": "[encoded data removed]",
      "text/plain": [
       "<Figure size 288x288 with 1 Axes>"
      ]
     },
     "metadata": {
      "needs_background": "light"
     },
     "output_type": "display_data"
    }
   ],
   "source": [
    "plt.matshow(digits.images[40])"
   ]
  },
  {
   "cell_type": "code",
   "execution_count": 37,
   "metadata": {},
   "outputs": [
    {
     "data": {
      "text/plain": [
       "8"
      ]
     },
     "execution_count": 37,
     "metadata": {},
     "output_type": "execute_result"
    }
   ],
   "source": [
    "digits.target[40]"
   ]
  },
  {
   "cell_type": "code",
   "execution_count": 19,
   "metadata": {},
   "outputs": [
    {
     "data": {
      "text/plain": [
       "array([0, 1, 2, 3, 4])"
      ]
     },
     "execution_count": 19,
     "metadata": {},
     "output_type": "execute_result"
    }
   ],
   "source": [
    "reg.predict(digits.data[0:5])"
   ]
  },
  {
   "cell_type": "markdown",
   "metadata": {},
   "source": [
    "confusion matrix to find how well our model is doing"
   ]
  },
  {
   "cell_type": "code",
   "execution_count": 20,
   "metadata": {},
   "outputs": [
    {
     "data": {
      "text/plain": [
       "array([[26,  0,  0,  0,  0,  0,  0,  0,  0,  0],\n",
       "       [ 0, 27,  0,  0,  0,  0,  0,  0,  1,  0],\n",
       "       [ 0,  0, 40,  0,  0,  0,  0,  0,  0,  0],\n",
       "       [ 0,  0,  0, 39,  0,  0,  0,  0,  1,  0],\n",
       "       [ 0,  1,  0,  0, 34,  0,  0,  0,  1,  1],\n",
       "       [ 0,  0,  0,  0,  0, 38,  1,  0,  0,  0],\n",
       "       [ 0,  0,  0,  0,  0,  0, 38,  0,  0,  0],\n",
       "       [ 0,  0,  0,  0,  0,  2,  0, 36,  0,  0],\n",
       "       [ 1,  1,  1,  0,  0,  0,  0,  0, 29,  1],\n",
       "       [ 0,  0,  0,  0,  0,  0,  0,  0,  0, 41]], dtype=int64)"
      ]
     },
     "execution_count": 20,
     "metadata": {},
     "output_type": "execute_result"
    }
   ],
   "source": [
    " y_predicted = reg.predict(X_test)\n",
    " from sklearn.metrics import confusion_matrix\n",
    " cm = confusion_matrix(y_test,y_predicted)\n",
    " cm"
   ]
  },
  {
   "cell_type": "markdown",
   "metadata": {},
   "source": [
    "---------------------------------------------------------------------------------------------------------------------------------\n",
    "----------------------------------------------------------------------------------------------------------------------\n",
    "Method 2 -- SVM"
   ]
  },
  {
   "cell_type": "code",
   "execution_count": 21,
   "metadata": {},
   "outputs": [],
   "source": [
    "import pandas as pd\n",
    "from sklearn.datasets import load_digits\n",
    "digits = load_digits()"
   ]
  },
  {
   "cell_type": "code",
   "execution_count": 22,
   "metadata": {},
   "outputs": [
    {
     "data": {
      "text/plain": [
       "['DESCR', 'data', 'feature_names', 'frame', 'images', 'target', 'target_names']"
      ]
     },
     "execution_count": 22,
     "metadata": {},
     "output_type": "execute_result"
    }
   ],
   "source": [
    "dir(digits)"
   ]
  },
  {
   "cell_type": "code",
   "execution_count": 23,
   "metadata": {},
   "outputs": [
    {
     "data": {
      "text/plain": [
       "array([0, 1, 2, ..., 8, 9, 8])"
      ]
     },
     "execution_count": 23,
     "metadata": {},
     "output_type": "execute_result"
    }
   ],
   "source": [
    "digits.target"
   ]
  },
  {
   "cell_type": "code",
   "execution_count": 24,
   "metadata": {},
   "outputs": [
    {
     "data": {
      "text/html": [
       "<div>\n",
       "<style scoped>\n",
       "    .dataframe tbody tr th:only-of-type {\n",
       "        vertical-align: middle;\n",
       "    }\n",
       "\n",
       "    .dataframe tbody tr th {\n",
       "        vertical-align: top;\n",
       "    }\n",
       "\n",
       "    .dataframe thead th {\n",
       "        text-align: right;\n",
       "    }\n",
       "</style>\n",
       "<table border=\"1\" class=\"dataframe\">\n",
       "  <thead>\n",
       "    <tr style=\"text-align: right;\">\n",
       "      <th></th>\n",
       "      <th>0</th>\n",
       "      <th>1</th>\n",
       "      <th>2</th>\n",
       "      <th>3</th>\n",
       "      <th>4</th>\n",
       "      <th>5</th>\n",
       "      <th>6</th>\n",
       "      <th>7</th>\n",
       "      <th>8</th>\n",
       "      <th>9</th>\n",
       "      <th>...</th>\n",
       "      <th>54</th>\n",
       "      <th>55</th>\n",
       "      <th>56</th>\n",
       "      <th>57</th>\n",
       "      <th>58</th>\n",
       "      <th>59</th>\n",
       "      <th>60</th>\n",
       "      <th>61</th>\n",
       "      <th>62</th>\n",
       "      <th>63</th>\n",
       "    </tr>\n",
       "  </thead>\n",
       "  <tbody>\n",
       "    <tr>\n",
       "      <th>0</th>\n",
       "      <td>0.0</td>\n",
       "      <td>0.0</td>\n",
       "      <td>5.0</td>\n",
       "      <td>13.0</td>\n",
       "      <td>9.0</td>\n",
       "      <td>1.0</td>\n",
       "      <td>0.0</td>\n",
       "      <td>0.0</td>\n",
       "      <td>0.0</td>\n",
       "      <td>0.0</td>\n",
       "      <td>...</td>\n",
       "      <td>0.0</td>\n",
       "      <td>0.0</td>\n",
       "      <td>0.0</td>\n",
       "      <td>0.0</td>\n",
       "      <td>6.0</td>\n",
       "      <td>13.0</td>\n",
       "      <td>10.0</td>\n",
       "      <td>0.0</td>\n",
       "      <td>0.0</td>\n",
       "      <td>0.0</td>\n",
       "    </tr>\n",
       "    <tr>\n",
       "      <th>1</th>\n",
       "      <td>0.0</td>\n",
       "      <td>0.0</td>\n",
       "      <td>0.0</td>\n",
       "      <td>12.0</td>\n",
       "      <td>13.0</td>\n",
       "      <td>5.0</td>\n",
       "      <td>0.0</td>\n",
       "      <td>0.0</td>\n",
       "      <td>0.0</td>\n",
       "      <td>0.0</td>\n",
       "      <td>...</td>\n",
       "      <td>0.0</td>\n",
       "      <td>0.0</td>\n",
       "      <td>0.0</td>\n",
       "      <td>0.0</td>\n",
       "      <td>0.0</td>\n",
       "      <td>11.0</td>\n",
       "      <td>16.0</td>\n",
       "      <td>10.0</td>\n",
       "      <td>0.0</td>\n",
       "      <td>0.0</td>\n",
       "    </tr>\n",
       "    <tr>\n",
       "      <th>2</th>\n",
       "      <td>0.0</td>\n",
       "      <td>0.0</td>\n",
       "      <td>0.0</td>\n",
       "      <td>4.0</td>\n",
       "      <td>15.0</td>\n",
       "      <td>12.0</td>\n",
       "      <td>0.0</td>\n",
       "      <td>0.0</td>\n",
       "      <td>0.0</td>\n",
       "      <td>0.0</td>\n",
       "      <td>...</td>\n",
       "      <td>5.0</td>\n",
       "      <td>0.0</td>\n",
       "      <td>0.0</td>\n",
       "      <td>0.0</td>\n",
       "      <td>0.0</td>\n",
       "      <td>3.0</td>\n",
       "      <td>11.0</td>\n",
       "      <td>16.0</td>\n",
       "      <td>9.0</td>\n",
       "      <td>0.0</td>\n",
       "    </tr>\n",
       "    <tr>\n",
       "      <th>3</th>\n",
       "      <td>0.0</td>\n",
       "      <td>0.0</td>\n",
       "      <td>7.0</td>\n",
       "      <td>15.0</td>\n",
       "      <td>13.0</td>\n",
       "      <td>1.0</td>\n",
       "      <td>0.0</td>\n",
       "      <td>0.0</td>\n",
       "      <td>0.0</td>\n",
       "      <td>8.0</td>\n",
       "      <td>...</td>\n",
       "      <td>9.0</td>\n",
       "      <td>0.0</td>\n",
       "      <td>0.0</td>\n",
       "      <td>0.0</td>\n",
       "      <td>7.0</td>\n",
       "      <td>13.0</td>\n",
       "      <td>13.0</td>\n",
       "      <td>9.0</td>\n",
       "      <td>0.0</td>\n",
       "      <td>0.0</td>\n",
       "    </tr>\n",
       "    <tr>\n",
       "      <th>4</th>\n",
       "      <td>0.0</td>\n",
       "      <td>0.0</td>\n",
       "      <td>0.0</td>\n",
       "      <td>1.0</td>\n",
       "      <td>11.0</td>\n",
       "      <td>0.0</td>\n",
       "      <td>0.0</td>\n",
       "      <td>0.0</td>\n",
       "      <td>0.0</td>\n",
       "      <td>0.0</td>\n",
       "      <td>...</td>\n",
       "      <td>0.0</td>\n",
       "      <td>0.0</td>\n",
       "      <td>0.0</td>\n",
       "      <td>0.0</td>\n",
       "      <td>0.0</td>\n",
       "      <td>2.0</td>\n",
       "      <td>16.0</td>\n",
       "      <td>4.0</td>\n",
       "      <td>0.0</td>\n",
       "      <td>0.0</td>\n",
       "    </tr>\n",
       "  </tbody>\n",
       "</table>\n",
       "<p>5 rows × 64 columns</p>\n",
       "</div>"
      ],
      "text/plain": [
       "    0    1    2     3     4     5    6    7    8    9   ...   54   55   56  \\\n",
       "0  0.0  0.0  5.0  13.0   9.0   1.0  0.0  0.0  0.0  0.0  ...  0.0  0.0  0.0   \n",
       "1  0.0  0.0  0.0  12.0  13.0   5.0  0.0  0.0  0.0  0.0  ...  0.0  0.0  0.0   \n",
       "2  0.0  0.0  0.0   4.0  15.0  12.0  0.0  0.0  0.0  0.0  ...  5.0  0.0  0.0   \n",
       "3  0.0  0.0  7.0  15.0  13.0   1.0  0.0  0.0  0.0  8.0  ...  9.0  0.0  0.0   \n",
       "4  0.0  0.0  0.0   1.0  11.0   0.0  0.0  0.0  0.0  0.0  ...  0.0  0.0  0.0   \n",
       "\n",
       "    57   58    59    60    61   62   63  \n",
       "0  0.0  6.0  13.0  10.0   0.0  0.0  0.0  \n",
       "1  0.0  0.0  11.0  16.0  10.0  0.0  0.0  \n",
       "2  0.0  0.0   3.0  11.0  16.0  9.0  0.0  \n",
       "3  0.0  7.0  13.0  13.0   9.0  0.0  0.0  \n",
       "4  0.0  0.0   2.0  16.0   4.0  0.0  0.0  \n",
       "\n",
       "[5 rows x 64 columns]"
      ]
     },
     "execution_count": 24,
     "metadata": {},
     "output_type": "execute_result"
    }
   ],
   "source": [
    "df = pd.DataFrame(digits.data)\n",
    "df.head()"
   ]
  },
  {
   "cell_type": "code",
   "execution_count": 25,
   "metadata": {},
   "outputs": [
    {
     "data": {
      "text/html": [
       "<div>\n",
       "<style scoped>\n",
       "    .dataframe tbody tr th:only-of-type {\n",
       "        vertical-align: middle;\n",
       "    }\n",
       "\n",
       "    .dataframe tbody tr th {\n",
       "        vertical-align: top;\n",
       "    }\n",
       "\n",
       "    .dataframe thead th {\n",
       "        text-align: right;\n",
       "    }\n",
       "</style>\n",
       "<table border=\"1\" class=\"dataframe\">\n",
       "  <thead>\n",
       "    <tr style=\"text-align: right;\">\n",
       "      <th></th>\n",
       "      <th>0</th>\n",
       "      <th>1</th>\n",
       "      <th>2</th>\n",
       "      <th>3</th>\n",
       "      <th>4</th>\n",
       "      <th>5</th>\n",
       "      <th>6</th>\n",
       "      <th>7</th>\n",
       "      <th>8</th>\n",
       "      <th>9</th>\n",
       "      <th>...</th>\n",
       "      <th>55</th>\n",
       "      <th>56</th>\n",
       "      <th>57</th>\n",
       "      <th>58</th>\n",
       "      <th>59</th>\n",
       "      <th>60</th>\n",
       "      <th>61</th>\n",
       "      <th>62</th>\n",
       "      <th>63</th>\n",
       "      <th>target</th>\n",
       "    </tr>\n",
       "  </thead>\n",
       "  <tbody>\n",
       "    <tr>\n",
       "      <th>0</th>\n",
       "      <td>0.0</td>\n",
       "      <td>0.0</td>\n",
       "      <td>5.0</td>\n",
       "      <td>13.0</td>\n",
       "      <td>9.0</td>\n",
       "      <td>1.0</td>\n",
       "      <td>0.0</td>\n",
       "      <td>0.0</td>\n",
       "      <td>0.0</td>\n",
       "      <td>0.0</td>\n",
       "      <td>...</td>\n",
       "      <td>0.0</td>\n",
       "      <td>0.0</td>\n",
       "      <td>0.0</td>\n",
       "      <td>6.0</td>\n",
       "      <td>13.0</td>\n",
       "      <td>10.0</td>\n",
       "      <td>0.0</td>\n",
       "      <td>0.0</td>\n",
       "      <td>0.0</td>\n",
       "      <td>0</td>\n",
       "    </tr>\n",
       "    <tr>\n",
       "      <th>1</th>\n",
       "      <td>0.0</td>\n",
       "      <td>0.0</td>\n",
       "      <td>0.0</td>\n",
       "      <td>12.0</td>\n",
       "      <td>13.0</td>\n",
       "      <td>5.0</td>\n",
       "      <td>0.0</td>\n",
       "      <td>0.0</td>\n",
       "      <td>0.0</td>\n",
       "      <td>0.0</td>\n",
       "      <td>...</td>\n",
       "      <td>0.0</td>\n",
       "      <td>0.0</td>\n",
       "      <td>0.0</td>\n",
       "      <td>0.0</td>\n",
       "      <td>11.0</td>\n",
       "      <td>16.0</td>\n",
       "      <td>10.0</td>\n",
       "      <td>0.0</td>\n",
       "      <td>0.0</td>\n",
       "      <td>1</td>\n",
       "    </tr>\n",
       "    <tr>\n",
       "      <th>2</th>\n",
       "      <td>0.0</td>\n",
       "      <td>0.0</td>\n",
       "      <td>0.0</td>\n",
       "      <td>4.0</td>\n",
       "      <td>15.0</td>\n",
       "      <td>12.0</td>\n",
       "      <td>0.0</td>\n",
       "      <td>0.0</td>\n",
       "      <td>0.0</td>\n",
       "      <td>0.0</td>\n",
       "      <td>...</td>\n",
       "      <td>0.0</td>\n",
       "      <td>0.0</td>\n",
       "      <td>0.0</td>\n",
       "      <td>0.0</td>\n",
       "      <td>3.0</td>\n",
       "      <td>11.0</td>\n",
       "      <td>16.0</td>\n",
       "      <td>9.0</td>\n",
       "      <td>0.0</td>\n",
       "      <td>2</td>\n",
       "    </tr>\n",
       "    <tr>\n",
       "      <th>3</th>\n",
       "      <td>0.0</td>\n",
       "      <td>0.0</td>\n",
       "      <td>7.0</td>\n",
       "      <td>15.0</td>\n",
       "      <td>13.0</td>\n",
       "      <td>1.0</td>\n",
       "      <td>0.0</td>\n",
       "      <td>0.0</td>\n",
       "      <td>0.0</td>\n",
       "      <td>8.0</td>\n",
       "      <td>...</td>\n",
       "      <td>0.0</td>\n",
       "      <td>0.0</td>\n",
       "      <td>0.0</td>\n",
       "      <td>7.0</td>\n",
       "      <td>13.0</td>\n",
       "      <td>13.0</td>\n",
       "      <td>9.0</td>\n",
       "      <td>0.0</td>\n",
       "      <td>0.0</td>\n",
       "      <td>3</td>\n",
       "    </tr>\n",
       "    <tr>\n",
       "      <th>4</th>\n",
       "      <td>0.0</td>\n",
       "      <td>0.0</td>\n",
       "      <td>0.0</td>\n",
       "      <td>1.0</td>\n",
       "      <td>11.0</td>\n",
       "      <td>0.0</td>\n",
       "      <td>0.0</td>\n",
       "      <td>0.0</td>\n",
       "      <td>0.0</td>\n",
       "      <td>0.0</td>\n",
       "      <td>...</td>\n",
       "      <td>0.0</td>\n",
       "      <td>0.0</td>\n",
       "      <td>0.0</td>\n",
       "      <td>0.0</td>\n",
       "      <td>2.0</td>\n",
       "      <td>16.0</td>\n",
       "      <td>4.0</td>\n",
       "      <td>0.0</td>\n",
       "      <td>0.0</td>\n",
       "      <td>4</td>\n",
       "    </tr>\n",
       "  </tbody>\n",
       "</table>\n",
       "<p>5 rows × 65 columns</p>\n",
       "</div>"
      ],
      "text/plain": [
       "     0    1    2     3     4     5    6    7    8    9  ...   55   56   57  \\\n",
       "0  0.0  0.0  5.0  13.0   9.0   1.0  0.0  0.0  0.0  0.0  ...  0.0  0.0  0.0   \n",
       "1  0.0  0.0  0.0  12.0  13.0   5.0  0.0  0.0  0.0  0.0  ...  0.0  0.0  0.0   \n",
       "2  0.0  0.0  0.0   4.0  15.0  12.0  0.0  0.0  0.0  0.0  ...  0.0  0.0  0.0   \n",
       "3  0.0  0.0  7.0  15.0  13.0   1.0  0.0  0.0  0.0  8.0  ...  0.0  0.0  0.0   \n",
       "4  0.0  0.0  0.0   1.0  11.0   0.0  0.0  0.0  0.0  0.0  ...  0.0  0.0  0.0   \n",
       "\n",
       "    58    59    60    61   62   63  target  \n",
       "0  6.0  13.0  10.0   0.0  0.0  0.0       0  \n",
       "1  0.0  11.0  16.0  10.0  0.0  0.0       1  \n",
       "2  0.0   3.0  11.0  16.0  9.0  0.0       2  \n",
       "3  7.0  13.0  13.0   9.0  0.0  0.0       3  \n",
       "4  0.0   2.0  16.0   4.0  0.0  0.0       4  \n",
       "\n",
       "[5 rows x 65 columns]"
      ]
     },
     "execution_count": 25,
     "metadata": {},
     "output_type": "execute_result"
    }
   ],
   "source": [
    "df['target'] = digits.target\n",
    "df.head()"
   ]
  },
  {
   "cell_type": "code",
   "execution_count": 26,
   "metadata": {},
   "outputs": [],
   "source": [
    "from sklearn.model_selection import train_test_split\n",
    "X = df.drop(['target'], axis='columns')\n",
    "y = df.target\n",
    "X_train, X_test, y_train, y_test = train_test_split(X, y, test_size=0.2)"
   ]
  },
  {
   "cell_type": "code",
   "execution_count": 27,
   "metadata": {},
   "outputs": [
    {
     "data": {
      "text/plain": [
       "1437"
      ]
     },
     "execution_count": 27,
     "metadata": {},
     "output_type": "execute_result"
    }
   ],
   "source": [
    "len(X_train)"
   ]
  },
  {
   "cell_type": "code",
   "execution_count": 28,
   "metadata": {},
   "outputs": [],
   "source": [
    "from sklearn.svm import SVC\n",
    "model2 = SVC(kernel='linear')"
   ]
  },
  {
   "cell_type": "code",
   "execution_count": 29,
   "metadata": {},
   "outputs": [
    {
     "data": {
      "text/plain": [
       "SVC(kernel='linear')"
      ]
     },
     "execution_count": 29,
     "metadata": {},
     "output_type": "execute_result"
    }
   ],
   "source": [
    "model2.fit(X_train,y_train)"
   ]
  },
  {
   "cell_type": "code",
   "execution_count": 30,
   "metadata": {},
   "outputs": [
    {
     "data": {
      "text/plain": [
       "0.975"
      ]
     },
     "execution_count": 30,
     "metadata": {},
     "output_type": "execute_result"
    }
   ],
   "source": [
    "model2.score(X_test,y_test)"
   ]
  },
  {
   "cell_type": "markdown",
   "metadata": {},
   "source": [
    "Method 3 -- Random Forest"
   ]
  },
  {
   "cell_type": "code",
   "execution_count": 31,
   "metadata": {},
   "outputs": [],
   "source": [
    "from sklearn.ensemble import RandomForestClassifier\n",
    "model3 = RandomForestClassifier(n_estimators=20)"
   ]
  },
  {
   "cell_type": "code",
   "execution_count": 32,
   "metadata": {},
   "outputs": [
    {
     "data": {
      "text/plain": [
       "RandomForestClassifier(n_estimators=20)"
      ]
     },
     "execution_count": 32,
     "metadata": {},
     "output_type": "execute_result"
    }
   ],
   "source": [
    "model3.fit(X_train,y_train)"
   ]
  },
  {
   "cell_type": "code",
   "execution_count": 33,
   "metadata": {},
   "outputs": [
    {
     "data": {
      "text/plain": [
       "0.9638888888888889"
      ]
     },
     "execution_count": 33,
     "metadata": {},
     "output_type": "execute_result"
    }
   ],
   "source": [
    "model3.score(X_test,y_test)"
   ]
  },
  {
   "cell_type": "code",
   "execution_count": 38,
   "metadata": {},
   "outputs": [],
   "source": [
    "y_predicted = model3.predict(X_test)"
   ]
  },
  {
   "cell_type": "code",
   "execution_count": null,
   "metadata": {},
   "outputs": [
    {
     "data": {
      "text/plain": [
       "array([[37,  0,  0,  0,  0,  0,  0,  0,  0,  0],\n",
       "       [ 0, 40,  0,  0,  0,  0,  0,  0,  0,  0],\n",
       "       [ 0,  0, 30,  0,  0,  0,  0,  0,  0,  0],\n",
       "       [ 0,  0,  0, 40,  0,  0,  0,  0,  0,  0],\n",
       "       [ 0,  0,  0,  0, 40,  0,  0,  0,  0,  0],\n",
       "       [ 0,  0,  0,  0,  0, 34,  0,  0,  0,  0],\n",
       "       [ 0,  0,  0,  0,  0,  0, 23,  0,  0,  0],\n",
       "       [ 0,  0,  0,  0,  0,  0,  0, 31,  0,  1],\n",
       "       [ 0,  1,  0,  0,  0,  0,  0,  0, 43,  0],\n",
       "       [ 0,  0,  0,  0,  0,  0,  0,  0,  0, 40]])"
      ]
     },
     "execution_count": 43,
     "metadata": {},
     "output_type": "execute_result"
    }
   ],
   "source": [
    "from sklearn.metrics import confusion_matrix\n",
    "cm = confusion_matrix(y_test, y_predicted)\n",
    "cm"
   ]
  },
  {
   "cell_type": "code",
   "execution_count": null,
   "metadata": {},
   "outputs": [
    {
     "data": {
      "text/plain": [
       "Text(69.0, 0.5, 'Truth')"
      ]
     },
     "execution_count": 45,
     "metadata": {},
     "output_type": "execute_result"
    },
    {
     "data": {
      "image/png": "[encoded data removed]",
      "image/svg+xml": "<?xml version=\"1.0\" encoding=\"utf-8\" standalone=\"no\"?>\n<!DOCTYPE svg PUBLIC \"-//W3C//DTD SVG 1.1//EN\"\n  \"http://www.w3.org/Graphics/SVG/1.1/DTD/svg11.dtd\">\n<!-- Created with matplotlib (https://matplotlib.org/) -->\n<svg height=\"425.27625pt\" version=\"1.1\" viewBox=\"0 0 557.80725 425.27625\" width=\"557.80725pt\" xmlns=\"http://www.w3.org/2000/svg\" xmlns:xlink=\"http://www.w3.org/1999/xlink\">\n <metadata>\n  <rdf:RDF xmlns:cc=\"http://creativecommons.org/ns#\" xmlns:dc=\"http://purl.org/dc/elements/1.1/\" xmlns:rdf=\"http://www.w3.org/1999/02/22-rdf-syntax-ns#\">\n   <cc:Work>\n    <dc:type rdf:resource=\"http://purl.org/dc/dcmitype/StillImage\"/>\n    <dc:date>2020-12-29T23:59:59.183913</dc:date>\n    <dc:format>image/svg+xml</dc:format>\n    <dc:creator>\n     <cc:Agent>\n      <dc:title>Matplotlib v3.3.3, https://matplotlib.org/</dc:title>\n     </cc:Agent>\n    </dc:creator>\n   </cc:Work>\n  </rdf:RDF>\n </metadata>\n <defs>\n  <style type=\"text/css\">*{stroke-linecap:butt;stroke-linejoin:round;}</style>\n </defs>\n <g id=\"figure_1\">\n  <g id=\"patch_1\">\n   <path d=\"M 0 425.27625 \nL 557.80725 425.27625 \nL 557.80725 0 \nL 0 0 \nz\n\" style=\"fill:none;\"/>\n  </g>\n  <g id=\"axes_1\">\n   <g id=\"patch_2\">\n    <path d=\"M 37.55625 387.72 \nL 483.95625 387.72 \nL 483.95625 7.2 \nL 37.55625 7.2 \nz\n\" style=\"fill:#ffffff;\"/>\n   </g>\n   <g id=\"QuadMesh_1\">\n    <path clip-path=\"url(#p026b4ed674)\" d=\"M 37.55625 7.2 \nL 82.19625 7.2 \nL 82.19625 45.252 \nL 37.55625 45.252 \nL 37.55625 7.2 \n\" style=\"fill:#f6b691;\"/>\n    <path clip-path=\"url(#p026b4ed674)\" d=\"M 82.19625 7.2 \nL 126.83625 7.2 \nL 126.83625 45.252 \nL 82.19625 45.252 \nL 82.19625 7.2 \n\" style=\"fill:#03051a;\"/>\n    <path clip-path=\"url(#p026b4ed674)\" d=\"M 126.83625 7.2 \nL 171.47625 7.2 \nL 171.47625 45.252 \nL 126.83625 45.252 \nL 126.83625 7.2 \n\" style=\"fill:#03051a;\"/>\n    <path clip-path=\"url(#p026b4ed674)\" d=\"M 171.47625 7.2 \nL 216.11625 7.2 \nL 216.11625 45.252 \nL 171.47625 45.252 \nL 171.47625 7.2 \n\" style=\"fill:#03051a;\"/>\n    <path clip-path=\"url(#p026b4ed674)\" d=\"M 216.11625 7.2 \nL 260.75625 7.2 \nL 260.75625 45.252 \nL 216.11625 45.252 \nL 216.11625 7.2 \n\" style=\"fill:#03051a;\"/>\n    <path clip-path=\"url(#p026b4ed674)\" d=\"M 260.75625 7.2 \nL 305.39625 7.2 \nL 305.39625 45.252 \nL 260.75625 45.252 \nL 260.75625 7.2 \n\" style=\"fill:#03051a;\"/>\n    <path clip-path=\"url(#p026b4ed674)\" d=\"M 305.39625 7.2 \nL 350.03625 7.2 \nL 350.03625 45.252 \nL 305.39625 45.252 \nL 305.39625 7.2 \n\" style=\"fill:#03051a;\"/>\n    <path clip-path=\"url(#p026b4ed674)\" d=\"M 350.03625 7.2 \nL 394.67625 7.2 \nL 394.67625 45.252 \nL 350.03625 45.252 \nL 350.03625 7.2 \n\" style=\"fill:#03051a;\"/>\n    <path clip-path=\"url(#p026b4ed674)\" d=\"M 394.67625 7.2 \nL 439.31625 7.2 \nL 439.31625 45.252 \nL 394.67625 45.252 \nL 394.67625 7.2 \n\" style=\"fill:#03051a;\"/>\n    <path clip-path=\"url(#p026b4ed674)\" d=\"M 439.31625 7.2 \nL 483.95625 7.2 \nL 483.95625 45.252 \nL 439.31625 45.252 \nL 439.31625 7.2 \n\" style=\"fill:#03051a;\"/>\n    <path clip-path=\"url(#p026b4ed674)\" d=\"M 37.55625 45.252 \nL 82.19625 45.252 \nL 82.19625 83.304 \nL 37.55625 83.304 \nL 37.55625 45.252 \n\" style=\"fill:#03051a;\"/>\n    <path clip-path=\"url(#p026b4ed674)\" d=\"M 82.19625 45.252 \nL 126.83625 45.252 \nL 126.83625 83.304 \nL 82.19625 83.304 \nL 82.19625 45.252 \n\" style=\"fill:#f8d1b8;\"/>\n    <path clip-path=\"url(#p026b4ed674)\" d=\"M 126.83625 45.252 \nL 171.47625 45.252 \nL 171.47625 83.304 \nL 126.83625 83.304 \nL 126.83625 45.252 \n\" style=\"fill:#03051a;\"/>\n    <path clip-path=\"url(#p026b4ed674)\" d=\"M 171.47625 45.252 \nL 216.11625 45.252 \nL 216.11625 83.304 \nL 171.47625 83.304 \nL 171.47625 45.252 \n\" style=\"fill:#03051a;\"/>\n    <path clip-path=\"url(#p026b4ed674)\" d=\"M 216.11625 45.252 \nL 260.75625 45.252 \nL 260.75625 83.304 \nL 216.11625 83.304 \nL 216.11625 45.252 \n\" style=\"fill:#03051a;\"/>\n    <path clip-path=\"url(#p026b4ed674)\" d=\"M 260.75625 45.252 \nL 305.39625 45.252 \nL 305.39625 83.304 \nL 260.75625 83.304 \nL 260.75625 45.252 \n\" style=\"fill:#03051a;\"/>\n    <path clip-path=\"url(#p026b4ed674)\" d=\"M 305.39625 45.252 \nL 350.03625 45.252 \nL 350.03625 83.304 \nL 305.39625 83.304 \nL 305.39625 45.252 \n\" style=\"fill:#03051a;\"/>\n    <path clip-path=\"url(#p026b4ed674)\" d=\"M 350.03625 45.252 \nL 394.67625 45.252 \nL 394.67625 83.304 \nL 350.03625 83.304 \nL 350.03625 45.252 \n\" style=\"fill:#03051a;\"/>\n    <path clip-path=\"url(#p026b4ed674)\" d=\"M 394.67625 45.252 \nL 439.31625 45.252 \nL 439.31625 83.304 \nL 394.67625 83.304 \nL 394.67625 45.252 \n\" style=\"fill:#03051a;\"/>\n    <path clip-path=\"url(#p026b4ed674)\" d=\"M 439.31625 45.252 \nL 483.95625 45.252 \nL 483.95625 83.304 \nL 439.31625 83.304 \nL 439.31625 45.252 \n\" style=\"fill:#03051a;\"/>\n    <path clip-path=\"url(#p026b4ed674)\" d=\"M 37.55625 83.304 \nL 82.19625 83.304 \nL 82.19625 121.356 \nL 37.55625 121.356 \nL 37.55625 83.304 \n\" style=\"fill:#03051a;\"/>\n    <path clip-path=\"url(#p026b4ed674)\" d=\"M 82.19625 83.304 \nL 126.83625 83.304 \nL 126.83625 121.356 \nL 82.19625 121.356 \nL 82.19625 83.304 \n\" style=\"fill:#03051a;\"/>\n    <path clip-path=\"url(#p026b4ed674)\" d=\"M 126.83625 83.304 \nL 171.47625 83.304 \nL 171.47625 121.356 \nL 126.83625 121.356 \nL 126.83625 83.304 \n\" style=\"fill:#f26f4c;\"/>\n    <path clip-path=\"url(#p026b4ed674)\" d=\"M 171.47625 83.304 \nL 216.11625 83.304 \nL 216.11625 121.356 \nL 171.47625 121.356 \nL 171.47625 83.304 \n\" style=\"fill:#03051a;\"/>\n    <path clip-path=\"url(#p026b4ed674)\" d=\"M 216.11625 83.304 \nL 260.75625 83.304 \nL 260.75625 121.356 \nL 216.11625 121.356 \nL 216.11625 83.304 \n\" style=\"fill:#03051a;\"/>\n    <path clip-path=\"url(#p026b4ed674)\" d=\"M 260.75625 83.304 \nL 305.39625 83.304 \nL 305.39625 121.356 \nL 260.75625 121.356 \nL 260.75625 83.304 \n\" style=\"fill:#03051a;\"/>\n    <path clip-path=\"url(#p026b4ed674)\" d=\"M 305.39625 83.304 \nL 350.03625 83.304 \nL 350.03625 121.356 \nL 305.39625 121.356 \nL 305.39625 83.304 \n\" style=\"fill:#03051a;\"/>\n    <path clip-path=\"url(#p026b4ed674)\" d=\"M 350.03625 83.304 \nL 394.67625 83.304 \nL 394.67625 121.356 \nL 350.03625 121.356 \nL 350.03625 83.304 \n\" style=\"fill:#03051a;\"/>\n    <path clip-path=\"url(#p026b4ed674)\" d=\"M 394.67625 83.304 \nL 439.31625 83.304 \nL 439.31625 121.356 \nL 394.67625 121.356 \nL 394.67625 83.304 \n\" style=\"fill:#03051a;\"/>\n    <path clip-path=\"url(#p026b4ed674)\" d=\"M 439.31625 83.304 \nL 483.95625 83.304 \nL 483.95625 121.356 \nL 439.31625 121.356 \nL 439.31625 83.304 \n\" style=\"fill:#03051a;\"/>\n    <path clip-path=\"url(#p026b4ed674)\" d=\"M 37.55625 121.356 \nL 82.19625 121.356 \nL 82.19625 159.408 \nL 37.55625 159.408 \nL 37.55625 121.356 \n\" style=\"fill:#03051a;\"/>\n    <path clip-path=\"url(#p026b4ed674)\" d=\"M 82.19625 121.356 \nL 126.83625 121.356 \nL 126.83625 159.408 \nL 82.19625 159.408 \nL 82.19625 121.356 \n\" style=\"fill:#03051a;\"/>\n    <path clip-path=\"url(#p026b4ed674)\" d=\"M 126.83625 121.356 \nL 171.47625 121.356 \nL 171.47625 159.408 \nL 126.83625 159.408 \nL 126.83625 121.356 \n\" style=\"fill:#03051a;\"/>\n    <path clip-path=\"url(#p026b4ed674)\" d=\"M 171.47625 121.356 \nL 216.11625 121.356 \nL 216.11625 159.408 \nL 171.47625 159.408 \nL 171.47625 121.356 \n\" style=\"fill:#f8d1b8;\"/>\n    <path clip-path=\"url(#p026b4ed674)\" d=\"M 216.11625 121.356 \nL 260.75625 121.356 \nL 260.75625 159.408 \nL 216.11625 159.408 \nL 216.11625 121.356 \n\" style=\"fill:#03051a;\"/>\n    <path clip-path=\"url(#p026b4ed674)\" d=\"M 260.75625 121.356 \nL 305.39625 121.356 \nL 305.39625 159.408 \nL 260.75625 159.408 \nL 260.75625 121.356 \n\" style=\"fill:#03051a;\"/>\n    <path clip-path=\"url(#p026b4ed674)\" d=\"M 305.39625 121.356 \nL 350.03625 121.356 \nL 350.03625 159.408 \nL 305.39625 159.408 \nL 305.39625 121.356 \n\" style=\"fill:#03051a;\"/>\n    <path clip-path=\"url(#p026b4ed674)\" d=\"M 350.03625 121.356 \nL 394.67625 121.356 \nL 394.67625 159.408 \nL 350.03625 159.408 \nL 350.03625 121.356 \n\" style=\"fill:#03051a;\"/>\n    <path clip-path=\"url(#p026b4ed674)\" d=\"M 394.67625 121.356 \nL 439.31625 121.356 \nL 439.31625 159.408 \nL 394.67625 159.408 \nL 394.67625 121.356 \n\" style=\"fill:#03051a;\"/>\n    <path clip-path=\"url(#p026b4ed674)\" d=\"M 439.31625 121.356 \nL 483.95625 121.356 \nL 483.95625 159.408 \nL 439.31625 159.408 \nL 439.31625 121.356 \n\" style=\"fill:#03051a;\"/>\n    <path clip-path=\"url(#p026b4ed674)\" d=\"M 37.55625 159.408 \nL 82.19625 159.408 \nL 82.19625 197.46 \nL 37.55625 197.46 \nL 37.55625 159.408 \n\" style=\"fill:#03051a;\"/>\n    <path clip-path=\"url(#p026b4ed674)\" d=\"M 82.19625 159.408 \nL 126.83625 159.408 \nL 126.83625 197.46 \nL 82.19625 197.46 \nL 82.19625 159.408 \n\" style=\"fill:#03051a;\"/>\n    <path clip-path=\"url(#p026b4ed674)\" d=\"M 126.83625 159.408 \nL 171.47625 159.408 \nL 171.47625 197.46 \nL 126.83625 197.46 \nL 126.83625 159.408 \n\" style=\"fill:#03051a;\"/>\n    <path clip-path=\"url(#p026b4ed674)\" d=\"M 171.47625 159.408 \nL 216.11625 159.408 \nL 216.11625 197.46 \nL 171.47625 197.46 \nL 171.47625 159.408 \n\" style=\"fill:#03051a;\"/>\n    <path clip-path=\"url(#p026b4ed674)\" d=\"M 216.11625 159.408 \nL 260.75625 159.408 \nL 260.75625 197.46 \nL 216.11625 197.46 \nL 216.11625 159.408 \n\" style=\"fill:#f8d1b8;\"/>\n    <path clip-path=\"url(#p026b4ed674)\" d=\"M 260.75625 159.408 \nL 305.39625 159.408 \nL 305.39625 197.46 \nL 260.75625 197.46 \nL 260.75625 159.408 \n\" style=\"fill:#03051a;\"/>\n    <path clip-path=\"url(#p026b4ed674)\" d=\"M 305.39625 159.408 \nL 350.03625 159.408 \nL 350.03625 197.46 \nL 305.39625 197.46 \nL 305.39625 159.408 \n\" style=\"fill:#03051a;\"/>\n    <path clip-path=\"url(#p026b4ed674)\" d=\"M 350.03625 159.408 \nL 394.67625 159.408 \nL 394.67625 197.46 \nL 350.03625 197.46 \nL 350.03625 159.408 \n\" style=\"fill:#03051a;\"/>\n    <path clip-path=\"url(#p026b4ed674)\" d=\"M 394.67625 159.408 \nL 439.31625 159.408 \nL 439.31625 197.46 \nL 394.67625 197.46 \nL 394.67625 159.408 \n\" style=\"fill:#03051a;\"/>\n    <path clip-path=\"url(#p026b4ed674)\" d=\"M 439.31625 159.408 \nL 483.95625 159.408 \nL 483.95625 197.46 \nL 439.31625 197.46 \nL 439.31625 159.408 \n\" style=\"fill:#03051a;\"/>\n    <path clip-path=\"url(#p026b4ed674)\" d=\"M 37.55625 197.46 \nL 82.19625 197.46 \nL 82.19625 235.512 \nL 37.55625 235.512 \nL 37.55625 197.46 \n\" style=\"fill:#03051a;\"/>\n    <path clip-path=\"url(#p026b4ed674)\" d=\"M 82.19625 197.46 \nL 126.83625 197.46 \nL 126.83625 235.512 \nL 82.19625 235.512 \nL 82.19625 197.46 \n\" style=\"fill:#03051a;\"/>\n    <path clip-path=\"url(#p026b4ed674)\" d=\"M 126.83625 197.46 \nL 171.47625 197.46 \nL 171.47625 235.512 \nL 126.83625 235.512 \nL 126.83625 197.46 \n\" style=\"fill:#03051a;\"/>\n    <path clip-path=\"url(#p026b4ed674)\" d=\"M 171.47625 197.46 \nL 216.11625 197.46 \nL 216.11625 235.512 \nL 171.47625 235.512 \nL 171.47625 197.46 \n\" style=\"fill:#03051a;\"/>\n    <path clip-path=\"url(#p026b4ed674)\" d=\"M 216.11625 197.46 \nL 260.75625 197.46 \nL 260.75625 235.512 \nL 216.11625 235.512 \nL 216.11625 197.46 \n\" style=\"fill:#03051a;\"/>\n    <path clip-path=\"url(#p026b4ed674)\" d=\"M 260.75625 197.46 \nL 305.39625 197.46 \nL 305.39625 235.512 \nL 260.75625 235.512 \nL 260.75625 197.46 \n\" style=\"fill:#f59970;\"/>\n    <path clip-path=\"url(#p026b4ed674)\" d=\"M 305.39625 197.46 \nL 350.03625 197.46 \nL 350.03625 235.512 \nL 305.39625 235.512 \nL 305.39625 197.46 \n\" style=\"fill:#03051a;\"/>\n    <path clip-path=\"url(#p026b4ed674)\" d=\"M 350.03625 197.46 \nL 394.67625 197.46 \nL 394.67625 235.512 \nL 350.03625 235.512 \nL 350.03625 197.46 \n\" style=\"fill:#03051a;\"/>\n    <path clip-path=\"url(#p026b4ed674)\" d=\"M 394.67625 197.46 \nL 439.31625 197.46 \nL 439.31625 235.512 \nL 394.67625 235.512 \nL 394.67625 197.46 \n\" style=\"fill:#03051a;\"/>\n    <path clip-path=\"url(#p026b4ed674)\" d=\"M 439.31625 197.46 \nL 483.95625 197.46 \nL 483.95625 235.512 \nL 439.31625 235.512 \nL 439.31625 197.46 \n\" style=\"fill:#03051a;\"/>\n    <path clip-path=\"url(#p026b4ed674)\" d=\"M 37.55625 235.512 \nL 82.19625 235.512 \nL 82.19625 273.564 \nL 37.55625 273.564 \nL 37.55625 235.512 \n\" style=\"fill:#03051a;\"/>\n    <path clip-path=\"url(#p026b4ed674)\" d=\"M 82.19625 235.512 \nL 126.83625 235.512 \nL 126.83625 273.564 \nL 82.19625 273.564 \nL 82.19625 235.512 \n\" style=\"fill:#03051a;\"/>\n    <path clip-path=\"url(#p026b4ed674)\" d=\"M 126.83625 235.512 \nL 171.47625 235.512 \nL 171.47625 273.564 \nL 126.83625 273.564 \nL 126.83625 235.512 \n\" style=\"fill:#03051a;\"/>\n    <path clip-path=\"url(#p026b4ed674)\" d=\"M 171.47625 235.512 \nL 216.11625 235.512 \nL 216.11625 273.564 \nL 171.47625 273.564 \nL 171.47625 235.512 \n\" style=\"fill:#03051a;\"/>\n    <path clip-path=\"url(#p026b4ed674)\" d=\"M 216.11625 235.512 \nL 260.75625 235.512 \nL 260.75625 273.564 \nL 216.11625 273.564 \nL 216.11625 235.512 \n\" style=\"fill:#03051a;\"/>\n    <path clip-path=\"url(#p026b4ed674)\" d=\"M 260.75625 235.512 \nL 305.39625 235.512 \nL 305.39625 273.564 \nL 260.75625 273.564 \nL 260.75625 235.512 \n\" style=\"fill:#03051a;\"/>\n    <path clip-path=\"url(#p026b4ed674)\" d=\"M 305.39625 235.512 \nL 350.03625 235.512 \nL 350.03625 273.564 \nL 305.39625 273.564 \nL 305.39625 235.512 \n\" style=\"fill:#d62449;\"/>\n    <path clip-path=\"url(#p026b4ed674)\" d=\"M 350.03625 235.512 \nL 394.67625 235.512 \nL 394.67625 273.564 \nL 350.03625 273.564 \nL 350.03625 235.512 \n\" style=\"fill:#03051a;\"/>\n    <path clip-path=\"url(#p026b4ed674)\" d=\"M 394.67625 235.512 \nL 439.31625 235.512 \nL 439.31625 273.564 \nL 394.67625 273.564 \nL 394.67625 235.512 \n\" style=\"fill:#03051a;\"/>\n    <path clip-path=\"url(#p026b4ed674)\" d=\"M 439.31625 235.512 \nL 483.95625 235.512 \nL 483.95625 273.564 \nL 439.31625 273.564 \nL 439.31625 235.512 \n\" style=\"fill:#03051a;\"/>\n    <path clip-path=\"url(#p026b4ed674)\" d=\"M 37.55625 273.564 \nL 82.19625 273.564 \nL 82.19625 311.616 \nL 37.55625 311.616 \nL 37.55625 273.564 \n\" style=\"fill:#03051a;\"/>\n    <path clip-path=\"url(#p026b4ed674)\" d=\"M 82.19625 273.564 \nL 126.83625 273.564 \nL 126.83625 311.616 \nL 82.19625 311.616 \nL 82.19625 273.564 \n\" style=\"fill:#03051a;\"/>\n    <path clip-path=\"url(#p026b4ed674)\" d=\"M 126.83625 273.564 \nL 171.47625 273.564 \nL 171.47625 311.616 \nL 126.83625 311.616 \nL 126.83625 273.564 \n\" style=\"fill:#03051a;\"/>\n    <path clip-path=\"url(#p026b4ed674)\" d=\"M 171.47625 273.564 \nL 216.11625 273.564 \nL 216.11625 311.616 \nL 171.47625 311.616 \nL 171.47625 273.564 \n\" style=\"fill:#03051a;\"/>\n    <path clip-path=\"url(#p026b4ed674)\" d=\"M 216.11625 273.564 \nL 260.75625 273.564 \nL 260.75625 311.616 \nL 216.11625 311.616 \nL 216.11625 273.564 \n\" style=\"fill:#03051a;\"/>\n    <path clip-path=\"url(#p026b4ed674)\" d=\"M 260.75625 273.564 \nL 305.39625 273.564 \nL 305.39625 311.616 \nL 260.75625 311.616 \nL 260.75625 273.564 \n\" style=\"fill:#03051a;\"/>\n    <path clip-path=\"url(#p026b4ed674)\" d=\"M 305.39625 273.564 \nL 350.03625 273.564 \nL 350.03625 311.616 \nL 305.39625 311.616 \nL 305.39625 273.564 \n\" style=\"fill:#03051a;\"/>\n    <path clip-path=\"url(#p026b4ed674)\" d=\"M 350.03625 273.564 \nL 394.67625 273.564 \nL 394.67625 311.616 \nL 350.03625 311.616 \nL 350.03625 273.564 \n\" style=\"fill:#f47a54;\"/>\n    <path clip-path=\"url(#p026b4ed674)\" d=\"M 394.67625 273.564 \nL 439.31625 273.564 \nL 439.31625 311.616 \nL 394.67625 311.616 \nL 394.67625 273.564 \n\" style=\"fill:#03051a;\"/>\n    <path clip-path=\"url(#p026b4ed674)\" d=\"M 439.31625 273.564 \nL 483.95625 273.564 \nL 483.95625 311.616 \nL 439.31625 311.616 \nL 439.31625 273.564 \n\" style=\"fill:#08081e;\"/>\n    <path clip-path=\"url(#p026b4ed674)\" d=\"M 37.55625 311.616 \nL 82.19625 311.616 \nL 82.19625 349.668 \nL 37.55625 349.668 \nL 37.55625 311.616 \n\" style=\"fill:#03051a;\"/>\n    <path clip-path=\"url(#p026b4ed674)\" d=\"M 82.19625 311.616 \nL 126.83625 311.616 \nL 126.83625 349.668 \nL 82.19625 349.668 \nL 82.19625 311.616 \n\" style=\"fill:#08081e;\"/>\n    <path clip-path=\"url(#p026b4ed674)\" d=\"M 126.83625 311.616 \nL 171.47625 311.616 \nL 171.47625 349.668 \nL 126.83625 349.668 \nL 126.83625 311.616 \n\" style=\"fill:#03051a;\"/>\n    <path clip-path=\"url(#p026b4ed674)\" d=\"M 171.47625 311.616 \nL 216.11625 311.616 \nL 216.11625 349.668 \nL 171.47625 349.668 \nL 171.47625 311.616 \n\" style=\"fill:#03051a;\"/>\n    <path clip-path=\"url(#p026b4ed674)\" d=\"M 216.11625 311.616 \nL 260.75625 311.616 \nL 260.75625 349.668 \nL 216.11625 349.668 \nL 216.11625 311.616 \n\" style=\"fill:#03051a;\"/>\n    <path clip-path=\"url(#p026b4ed674)\" d=\"M 260.75625 311.616 \nL 305.39625 311.616 \nL 305.39625 349.668 \nL 260.75625 349.668 \nL 260.75625 311.616 \n\" style=\"fill:#03051a;\"/>\n    <path clip-path=\"url(#p026b4ed674)\" d=\"M 305.39625 311.616 \nL 350.03625 311.616 \nL 350.03625 349.668 \nL 305.39625 349.668 \nL 305.39625 311.616 \n\" style=\"fill:#03051a;\"/>\n    <path clip-path=\"url(#p026b4ed674)\" d=\"M 350.03625 311.616 \nL 394.67625 311.616 \nL 394.67625 349.668 \nL 350.03625 349.668 \nL 350.03625 311.616 \n\" style=\"fill:#03051a;\"/>\n    <path clip-path=\"url(#p026b4ed674)\" d=\"M 394.67625 311.616 \nL 439.31625 311.616 \nL 439.31625 349.668 \nL 394.67625 349.668 \nL 394.67625 311.616 \n\" style=\"fill:#faebdd;\"/>\n    <path clip-path=\"url(#p026b4ed674)\" d=\"M 439.31625 311.616 \nL 483.95625 311.616 \nL 483.95625 349.668 \nL 439.31625 349.668 \nL 439.31625 311.616 \n\" style=\"fill:#03051a;\"/>\n    <path clip-path=\"url(#p026b4ed674)\" d=\"M 37.55625 349.668 \nL 82.19625 349.668 \nL 82.19625 387.72 \nL 37.55625 387.72 \nL 37.55625 349.668 \n\" style=\"fill:#03051a;\"/>\n    <path clip-path=\"url(#p026b4ed674)\" d=\"M 82.19625 349.668 \nL 126.83625 349.668 \nL 126.83625 387.72 \nL 82.19625 387.72 \nL 82.19625 349.668 \n\" style=\"fill:#03051a;\"/>\n    <path clip-path=\"url(#p026b4ed674)\" d=\"M 126.83625 349.668 \nL 171.47625 349.668 \nL 171.47625 387.72 \nL 126.83625 387.72 \nL 126.83625 349.668 \n\" style=\"fill:#03051a;\"/>\n    <path clip-path=\"url(#p026b4ed674)\" d=\"M 171.47625 349.668 \nL 216.11625 349.668 \nL 216.11625 387.72 \nL 171.47625 387.72 \nL 171.47625 349.668 \n\" style=\"fill:#03051a;\"/>\n    <path clip-path=\"url(#p026b4ed674)\" d=\"M 216.11625 349.668 \nL 260.75625 349.668 \nL 260.75625 387.72 \nL 216.11625 387.72 \nL 216.11625 349.668 \n\" style=\"fill:#03051a;\"/>\n    <path clip-path=\"url(#p026b4ed674)\" d=\"M 260.75625 349.668 \nL 305.39625 349.668 \nL 305.39625 387.72 \nL 260.75625 387.72 \nL 260.75625 349.668 \n\" style=\"fill:#03051a;\"/>\n    <path clip-path=\"url(#p026b4ed674)\" d=\"M 305.39625 349.668 \nL 350.03625 349.668 \nL 350.03625 387.72 \nL 305.39625 387.72 \nL 305.39625 349.668 \n\" style=\"fill:#03051a;\"/>\n    <path clip-path=\"url(#p026b4ed674)\" d=\"M 350.03625 349.668 \nL 394.67625 349.668 \nL 394.67625 387.72 \nL 350.03625 387.72 \nL 350.03625 349.668 \n\" style=\"fill:#03051a;\"/>\n    <path clip-path=\"url(#p026b4ed674)\" d=\"M 394.67625 349.668 \nL 439.31625 349.668 \nL 439.31625 387.72 \nL 394.67625 387.72 \nL 394.67625 349.668 \n\" style=\"fill:#03051a;\"/>\n    <path clip-path=\"url(#p026b4ed674)\" d=\"M 439.31625 349.668 \nL 483.95625 349.668 \nL 483.95625 387.72 \nL 439.31625 387.72 \nL 439.31625 349.668 \n\" style=\"fill:#f8d1b8;\"/>\n   </g>\n   <g id=\"matplotlib.axis_1\">\n    <g id=\"xtick_1\">\n     <g id=\"line2d_1\">\n      <defs>\n       <path d=\"M 0 0 \nL 0 3.5 \n\" id=\"ma7ac138571\" style=\"stroke:#000000;stroke-width:0.8;\"/>\n      </defs>\n      <g>\n       <use style=\"stroke:#000000;stroke-width:0.8;\" x=\"59.87625\" xlink:href=\"#ma7ac138571\" y=\"387.72\"/>\n      </g>\n     </g>\n     <g id=\"text_1\">\n      <!-- 0 -->\n      <g transform=\"translate(56.695 402.318437)scale(0.1 -0.1)\">\n       <defs>\n        <path d=\"M 31.78125 66.40625 \nQ 24.171875 66.40625 20.328125 58.90625 \nQ 16.5 51.421875 16.5 36.375 \nQ 16.5 21.390625 20.328125 13.890625 \nQ 24.171875 6.390625 31.78125 6.390625 \nQ 39.453125 6.390625 43.28125 13.890625 \nQ 47.125 21.390625 47.125 36.375 \nQ 47.125 51.421875 43.28125 58.90625 \nQ 39.453125 66.40625 31.78125 66.40625 \nz\nM 31.78125 74.21875 \nQ 44.046875 74.21875 50.515625 64.515625 \nQ 56.984375 54.828125 56.984375 36.375 \nQ 56.984375 17.96875 50.515625 8.265625 \nQ 44.046875 -1.421875 31.78125 -1.421875 \nQ 19.53125 -1.421875 13.0625 8.265625 \nQ 6.59375 17.96875 6.59375 36.375 \nQ 6.59375 54.828125 13.0625 64.515625 \nQ 19.53125 74.21875 31.78125 74.21875 \nz\n\" id=\"DejaVuSans-48\"/>\n       </defs>\n       <use xlink:href=\"#DejaVuSans-48\"/>\n      </g>\n     </g>\n    </g>\n    <g id=\"xtick_2\">\n     <g id=\"line2d_2\">\n      <g>\n       <use style=\"stroke:#000000;stroke-width:0.8;\" x=\"104.51625\" xlink:href=\"#ma7ac138571\" y=\"387.72\"/>\n      </g>\n     </g>\n     <g id=\"text_2\">\n      <!-- 1 -->\n      <g transform=\"translate(101.335 402.318437)scale(0.1 -0.1)\">\n       <defs>\n        <path d=\"M 12.40625 8.296875 \nL 28.515625 8.296875 \nL 28.515625 63.921875 \nL 10.984375 60.40625 \nL 10.984375 69.390625 \nL 28.421875 72.90625 \nL 38.28125 72.90625 \nL 38.28125 8.296875 \nL 54.390625 8.296875 \nL 54.390625 0 \nL 12.40625 0 \nz\n\" id=\"DejaVuSans-49\"/>\n       </defs>\n       <use xlink:href=\"#DejaVuSans-49\"/>\n      </g>\n     </g>\n    </g>\n    <g id=\"xtick_3\">\n     <g id=\"line2d_3\">\n      <g>\n       <use style=\"stroke:#000000;stroke-width:0.8;\" x=\"149.15625\" xlink:href=\"#ma7ac138571\" y=\"387.72\"/>\n      </g>\n     </g>\n     <g id=\"text_3\">\n      <!-- 2 -->\n      <g transform=\"translate(145.975 402.318437)scale(0.1 -0.1)\">\n       <defs>\n        <path d=\"M 19.1875 8.296875 \nL 53.609375 8.296875 \nL 53.609375 0 \nL 7.328125 0 \nL 7.328125 8.296875 \nQ 12.9375 14.109375 22.625 23.890625 \nQ 32.328125 33.6875 34.8125 36.53125 \nQ 39.546875 41.84375 41.421875 45.53125 \nQ 43.3125 49.21875 43.3125 52.78125 \nQ 43.3125 58.59375 39.234375 62.25 \nQ 35.15625 65.921875 28.609375 65.921875 \nQ 23.96875 65.921875 18.8125 64.3125 \nQ 13.671875 62.703125 7.8125 59.421875 \nL 7.8125 69.390625 \nQ 13.765625 71.78125 18.9375 73 \nQ 24.125 74.21875 28.421875 74.21875 \nQ 39.75 74.21875 46.484375 68.546875 \nQ 53.21875 62.890625 53.21875 53.421875 \nQ 53.21875 48.921875 51.53125 44.890625 \nQ 49.859375 40.875 45.40625 35.40625 \nQ 44.1875 33.984375 37.640625 27.21875 \nQ 31.109375 20.453125 19.1875 8.296875 \nz\n\" id=\"DejaVuSans-50\"/>\n       </defs>\n       <use xlink:href=\"#DejaVuSans-50\"/>\n      </g>\n     </g>\n    </g>\n    <g id=\"xtick_4\">\n     <g id=\"line2d_4\">\n      <g>\n       <use style=\"stroke:#000000;stroke-width:0.8;\" x=\"193.79625\" xlink:href=\"#ma7ac138571\" y=\"387.72\"/>\n      </g>\n     </g>\n     <g id=\"text_4\">\n      <!-- 3 -->\n      <g transform=\"translate(190.615 402.318437)scale(0.1 -0.1)\">\n       <defs>\n        <path d=\"M 40.578125 39.3125 \nQ 47.65625 37.796875 51.625 33 \nQ 55.609375 28.21875 55.609375 21.1875 \nQ 55.609375 10.40625 48.1875 4.484375 \nQ 40.765625 -1.421875 27.09375 -1.421875 \nQ 22.515625 -1.421875 17.65625 -0.515625 \nQ 12.796875 0.390625 7.625 2.203125 \nL 7.625 11.71875 \nQ 11.71875 9.328125 16.59375 8.109375 \nQ 21.484375 6.890625 26.8125 6.890625 \nQ 36.078125 6.890625 40.9375 10.546875 \nQ 45.796875 14.203125 45.796875 21.1875 \nQ 45.796875 27.640625 41.28125 31.265625 \nQ 36.765625 34.90625 28.71875 34.90625 \nL 20.21875 34.90625 \nL 20.21875 43.015625 \nL 29.109375 43.015625 \nQ 36.375 43.015625 40.234375 45.921875 \nQ 44.09375 48.828125 44.09375 54.296875 \nQ 44.09375 59.90625 40.109375 62.90625 \nQ 36.140625 65.921875 28.71875 65.921875 \nQ 24.65625 65.921875 20.015625 65.03125 \nQ 15.375 64.15625 9.8125 62.3125 \nL 9.8125 71.09375 \nQ 15.4375 72.65625 20.34375 73.4375 \nQ 25.25 74.21875 29.59375 74.21875 \nQ 40.828125 74.21875 47.359375 69.109375 \nQ 53.90625 64.015625 53.90625 55.328125 \nQ 53.90625 49.265625 50.4375 45.09375 \nQ 46.96875 40.921875 40.578125 39.3125 \nz\n\" id=\"DejaVuSans-51\"/>\n       </defs>\n       <use xlink:href=\"#DejaVuSans-51\"/>\n      </g>\n     </g>\n    </g>\n    <g id=\"xtick_5\">\n     <g id=\"line2d_5\">\n      <g>\n       <use style=\"stroke:#000000;stroke-width:0.8;\" x=\"238.43625\" xlink:href=\"#ma7ac138571\" y=\"387.72\"/>\n      </g>\n     </g>\n     <g id=\"text_5\">\n      <!-- 4 -->\n      <g transform=\"translate(235.255 402.318437)scale(0.1 -0.1)\">\n       <defs>\n        <path d=\"M 37.796875 64.3125 \nL 12.890625 25.390625 \nL 37.796875 25.390625 \nz\nM 35.203125 72.90625 \nL 47.609375 72.90625 \nL 47.609375 25.390625 \nL 58.015625 25.390625 \nL 58.015625 17.1875 \nL 47.609375 17.1875 \nL 47.609375 0 \nL 37.796875 0 \nL 37.796875 17.1875 \nL 4.890625 17.1875 \nL 4.890625 26.703125 \nz\n\" id=\"DejaVuSans-52\"/>\n       </defs>\n       <use xlink:href=\"#DejaVuSans-52\"/>\n      </g>\n     </g>\n    </g>\n    <g id=\"xtick_6\">\n     <g id=\"line2d_6\">\n      <g>\n       <use style=\"stroke:#000000;stroke-width:0.8;\" x=\"283.07625\" xlink:href=\"#ma7ac138571\" y=\"387.72\"/>\n      </g>\n     </g>\n     <g id=\"text_6\">\n      <!-- 5 -->\n      <g transform=\"translate(279.895 402.318437)scale(0.1 -0.1)\">\n       <defs>\n        <path d=\"M 10.796875 72.90625 \nL 49.515625 72.90625 \nL 49.515625 64.59375 \nL 19.828125 64.59375 \nL 19.828125 46.734375 \nQ 21.96875 47.46875 24.109375 47.828125 \nQ 26.265625 48.1875 28.421875 48.1875 \nQ 40.625 48.1875 47.75 41.5 \nQ 54.890625 34.8125 54.890625 23.390625 \nQ 54.890625 11.625 47.5625 5.09375 \nQ 40.234375 -1.421875 26.90625 -1.421875 \nQ 22.3125 -1.421875 17.546875 -0.640625 \nQ 12.796875 0.140625 7.71875 1.703125 \nL 7.71875 11.625 \nQ 12.109375 9.234375 16.796875 8.0625 \nQ 21.484375 6.890625 26.703125 6.890625 \nQ 35.15625 6.890625 40.078125 11.328125 \nQ 45.015625 15.765625 45.015625 23.390625 \nQ 45.015625 31 40.078125 35.4375 \nQ 35.15625 39.890625 26.703125 39.890625 \nQ 22.75 39.890625 18.8125 39.015625 \nQ 14.890625 38.140625 10.796875 36.28125 \nz\n\" id=\"DejaVuSans-53\"/>\n       </defs>\n       <use xlink:href=\"#DejaVuSans-53\"/>\n      </g>\n     </g>\n    </g>\n    <g id=\"xtick_7\">\n     <g id=\"line2d_7\">\n      <g>\n       <use style=\"stroke:#000000;stroke-width:0.8;\" x=\"327.71625\" xlink:href=\"#ma7ac138571\" y=\"387.72\"/>\n      </g>\n     </g>\n     <g id=\"text_7\">\n      <!-- 6 -->\n      <g transform=\"translate(324.535 402.318437)scale(0.1 -0.1)\">\n       <defs>\n        <path d=\"M 33.015625 40.375 \nQ 26.375 40.375 22.484375 35.828125 \nQ 18.609375 31.296875 18.609375 23.390625 \nQ 18.609375 15.53125 22.484375 10.953125 \nQ 26.375 6.390625 33.015625 6.390625 \nQ 39.65625 6.390625 43.53125 10.953125 \nQ 47.40625 15.53125 47.40625 23.390625 \nQ 47.40625 31.296875 43.53125 35.828125 \nQ 39.65625 40.375 33.015625 40.375 \nz\nM 52.59375 71.296875 \nL 52.59375 62.3125 \nQ 48.875 64.0625 45.09375 64.984375 \nQ 41.3125 65.921875 37.59375 65.921875 \nQ 27.828125 65.921875 22.671875 59.328125 \nQ 17.53125 52.734375 16.796875 39.40625 \nQ 19.671875 43.65625 24.015625 45.921875 \nQ 28.375 48.1875 33.59375 48.1875 \nQ 44.578125 48.1875 50.953125 41.515625 \nQ 57.328125 34.859375 57.328125 23.390625 \nQ 57.328125 12.15625 50.6875 5.359375 \nQ 44.046875 -1.421875 33.015625 -1.421875 \nQ 20.359375 -1.421875 13.671875 8.265625 \nQ 6.984375 17.96875 6.984375 36.375 \nQ 6.984375 53.65625 15.1875 63.9375 \nQ 23.390625 74.21875 37.203125 74.21875 \nQ 40.921875 74.21875 44.703125 73.484375 \nQ 48.484375 72.75 52.59375 71.296875 \nz\n\" id=\"DejaVuSans-54\"/>\n       </defs>\n       <use xlink:href=\"#DejaVuSans-54\"/>\n      </g>\n     </g>\n    </g>\n    <g id=\"xtick_8\">\n     <g id=\"line2d_8\">\n      <g>\n       <use style=\"stroke:#000000;stroke-width:0.8;\" x=\"372.35625\" xlink:href=\"#ma7ac138571\" y=\"387.72\"/>\n      </g>\n     </g>\n     <g id=\"text_8\">\n      <!-- 7 -->\n      <g transform=\"translate(369.175 402.318437)scale(0.1 -0.1)\">\n       <defs>\n        <path d=\"M 8.203125 72.90625 \nL 55.078125 72.90625 \nL 55.078125 68.703125 \nL 28.609375 0 \nL 18.3125 0 \nL 43.21875 64.59375 \nL 8.203125 64.59375 \nz\n\" id=\"DejaVuSans-55\"/>\n       </defs>\n       <use xlink:href=\"#DejaVuSans-55\"/>\n      </g>\n     </g>\n    </g>\n    <g id=\"xtick_9\">\n     <g id=\"line2d_9\">\n      <g>\n       <use style=\"stroke:#000000;stroke-width:0.8;\" x=\"416.99625\" xlink:href=\"#ma7ac138571\" y=\"387.72\"/>\n      </g>\n     </g>\n     <g id=\"text_9\">\n      <!-- 8 -->\n      <g transform=\"translate(413.815 402.318437)scale(0.1 -0.1)\">\n       <defs>\n        <path d=\"M 31.78125 34.625 \nQ 24.75 34.625 20.71875 30.859375 \nQ 16.703125 27.09375 16.703125 20.515625 \nQ 16.703125 13.921875 20.71875 10.15625 \nQ 24.75 6.390625 31.78125 6.390625 \nQ 38.8125 6.390625 42.859375 10.171875 \nQ 46.921875 13.96875 46.921875 20.515625 \nQ 46.921875 27.09375 42.890625 30.859375 \nQ 38.875 34.625 31.78125 34.625 \nz\nM 21.921875 38.8125 \nQ 15.578125 40.375 12.03125 44.71875 \nQ 8.5 49.078125 8.5 55.328125 \nQ 8.5 64.0625 14.71875 69.140625 \nQ 20.953125 74.21875 31.78125 74.21875 \nQ 42.671875 74.21875 48.875 69.140625 \nQ 55.078125 64.0625 55.078125 55.328125 \nQ 55.078125 49.078125 51.53125 44.71875 \nQ 48 40.375 41.703125 38.8125 \nQ 48.828125 37.15625 52.796875 32.3125 \nQ 56.78125 27.484375 56.78125 20.515625 \nQ 56.78125 9.90625 50.3125 4.234375 \nQ 43.84375 -1.421875 31.78125 -1.421875 \nQ 19.734375 -1.421875 13.25 4.234375 \nQ 6.78125 9.90625 6.78125 20.515625 \nQ 6.78125 27.484375 10.78125 32.3125 \nQ 14.796875 37.15625 21.921875 38.8125 \nz\nM 18.3125 54.390625 \nQ 18.3125 48.734375 21.84375 45.5625 \nQ 25.390625 42.390625 31.78125 42.390625 \nQ 38.140625 42.390625 41.71875 45.5625 \nQ 45.3125 48.734375 45.3125 54.390625 \nQ 45.3125 60.0625 41.71875 63.234375 \nQ 38.140625 66.40625 31.78125 66.40625 \nQ 25.390625 66.40625 21.84375 63.234375 \nQ 18.3125 60.0625 18.3125 54.390625 \nz\n\" id=\"DejaVuSans-56\"/>\n       </defs>\n       <use xlink:href=\"#DejaVuSans-56\"/>\n      </g>\n     </g>\n    </g>\n    <g id=\"xtick_10\">\n     <g id=\"line2d_10\">\n      <g>\n       <use style=\"stroke:#000000;stroke-width:0.8;\" x=\"461.63625\" xlink:href=\"#ma7ac138571\" y=\"387.72\"/>\n      </g>\n     </g>\n     <g id=\"text_10\">\n      <!-- 9 -->\n      <g transform=\"translate(458.455 402.318437)scale(0.1 -0.1)\">\n       <defs>\n        <path d=\"M 10.984375 1.515625 \nL 10.984375 10.5 \nQ 14.703125 8.734375 18.5 7.8125 \nQ 22.3125 6.890625 25.984375 6.890625 \nQ 35.75 6.890625 40.890625 13.453125 \nQ 46.046875 20.015625 46.78125 33.40625 \nQ 43.953125 29.203125 39.59375 26.953125 \nQ 35.25 24.703125 29.984375 24.703125 \nQ 19.046875 24.703125 12.671875 31.3125 \nQ 6.296875 37.9375 6.296875 49.421875 \nQ 6.296875 60.640625 12.9375 67.421875 \nQ 19.578125 74.21875 30.609375 74.21875 \nQ 43.265625 74.21875 49.921875 64.515625 \nQ 56.59375 54.828125 56.59375 36.375 \nQ 56.59375 19.140625 48.40625 8.859375 \nQ 40.234375 -1.421875 26.421875 -1.421875 \nQ 22.703125 -1.421875 18.890625 -0.6875 \nQ 15.09375 0.046875 10.984375 1.515625 \nz\nM 30.609375 32.421875 \nQ 37.25 32.421875 41.125 36.953125 \nQ 45.015625 41.5 45.015625 49.421875 \nQ 45.015625 57.28125 41.125 61.84375 \nQ 37.25 66.40625 30.609375 66.40625 \nQ 23.96875 66.40625 20.09375 61.84375 \nQ 16.21875 57.28125 16.21875 49.421875 \nQ 16.21875 41.5 20.09375 36.953125 \nQ 23.96875 32.421875 30.609375 32.421875 \nz\n\" id=\"DejaVuSans-57\"/>\n       </defs>\n       <use xlink:href=\"#DejaVuSans-57\"/>\n      </g>\n     </g>\n    </g>\n    <g id=\"text_11\">\n     <!-- Predicted -->\n     <g transform=\"translate(237.285938 415.996562)scale(0.1 -0.1)\">\n      <defs>\n       <path d=\"M 19.671875 64.796875 \nL 19.671875 37.40625 \nL 32.078125 37.40625 \nQ 38.96875 37.40625 42.71875 40.96875 \nQ 46.484375 44.53125 46.484375 51.125 \nQ 46.484375 57.671875 42.71875 61.234375 \nQ 38.96875 64.796875 32.078125 64.796875 \nz\nM 9.8125 72.90625 \nL 32.078125 72.90625 \nQ 44.34375 72.90625 50.609375 67.359375 \nQ 56.890625 61.8125 56.890625 51.125 \nQ 56.890625 40.328125 50.609375 34.8125 \nQ 44.34375 29.296875 32.078125 29.296875 \nL 19.671875 29.296875 \nL 19.671875 0 \nL 9.8125 0 \nz\n\" id=\"DejaVuSans-80\"/>\n       <path d=\"M 41.109375 46.296875 \nQ 39.59375 47.171875 37.8125 47.578125 \nQ 36.03125 48 33.890625 48 \nQ 26.265625 48 22.1875 43.046875 \nQ 18.109375 38.09375 18.109375 28.8125 \nL 18.109375 0 \nL 9.078125 0 \nL 9.078125 54.6875 \nL 18.109375 54.6875 \nL 18.109375 46.1875 \nQ 20.953125 51.171875 25.484375 53.578125 \nQ 30.03125 56 36.53125 56 \nQ 37.453125 56 38.578125 55.875 \nQ 39.703125 55.765625 41.0625 55.515625 \nz\n\" id=\"DejaVuSans-114\"/>\n       <path d=\"M 56.203125 29.59375 \nL 56.203125 25.203125 \nL 14.890625 25.203125 \nQ 15.484375 15.921875 20.484375 11.0625 \nQ 25.484375 6.203125 34.421875 6.203125 \nQ 39.59375 6.203125 44.453125 7.46875 \nQ 49.3125 8.734375 54.109375 11.28125 \nL 54.109375 2.78125 \nQ 49.265625 0.734375 44.1875 -0.34375 \nQ 39.109375 -1.421875 33.890625 -1.421875 \nQ 20.796875 -1.421875 13.15625 6.1875 \nQ 5.515625 13.8125 5.515625 26.8125 \nQ 5.515625 40.234375 12.765625 48.109375 \nQ 20.015625 56 32.328125 56 \nQ 43.359375 56 49.78125 48.890625 \nQ 56.203125 41.796875 56.203125 29.59375 \nz\nM 47.21875 32.234375 \nQ 47.125 39.59375 43.09375 43.984375 \nQ 39.0625 48.390625 32.421875 48.390625 \nQ 24.90625 48.390625 20.390625 44.140625 \nQ 15.875 39.890625 15.1875 32.171875 \nz\n\" id=\"DejaVuSans-101\"/>\n       <path d=\"M 45.40625 46.390625 \nL 45.40625 75.984375 \nL 54.390625 75.984375 \nL 54.390625 0 \nL 45.40625 0 \nL 45.40625 8.203125 \nQ 42.578125 3.328125 38.25 0.953125 \nQ 33.9375 -1.421875 27.875 -1.421875 \nQ 17.96875 -1.421875 11.734375 6.484375 \nQ 5.515625 14.40625 5.515625 27.296875 \nQ 5.515625 40.1875 11.734375 48.09375 \nQ 17.96875 56 27.875 56 \nQ 33.9375 56 38.25 53.625 \nQ 42.578125 51.265625 45.40625 46.390625 \nz\nM 14.796875 27.296875 \nQ 14.796875 17.390625 18.875 11.75 \nQ 22.953125 6.109375 30.078125 6.109375 \nQ 37.203125 6.109375 41.296875 11.75 \nQ 45.40625 17.390625 45.40625 27.296875 \nQ 45.40625 37.203125 41.296875 42.84375 \nQ 37.203125 48.484375 30.078125 48.484375 \nQ 22.953125 48.484375 18.875 42.84375 \nQ 14.796875 37.203125 14.796875 27.296875 \nz\n\" id=\"DejaVuSans-100\"/>\n       <path d=\"M 9.421875 54.6875 \nL 18.40625 54.6875 \nL 18.40625 0 \nL 9.421875 0 \nz\nM 9.421875 75.984375 \nL 18.40625 75.984375 \nL 18.40625 64.59375 \nL 9.421875 64.59375 \nz\n\" id=\"DejaVuSans-105\"/>\n       <path d=\"M 48.78125 52.59375 \nL 48.78125 44.1875 \nQ 44.96875 46.296875 41.140625 47.34375 \nQ 37.3125 48.390625 33.40625 48.390625 \nQ 24.65625 48.390625 19.8125 42.84375 \nQ 14.984375 37.3125 14.984375 27.296875 \nQ 14.984375 17.28125 19.8125 11.734375 \nQ 24.65625 6.203125 33.40625 6.203125 \nQ 37.3125 6.203125 41.140625 7.25 \nQ 44.96875 8.296875 48.78125 10.40625 \nL 48.78125 2.09375 \nQ 45.015625 0.34375 40.984375 -0.53125 \nQ 36.96875 -1.421875 32.421875 -1.421875 \nQ 20.0625 -1.421875 12.78125 6.34375 \nQ 5.515625 14.109375 5.515625 27.296875 \nQ 5.515625 40.671875 12.859375 48.328125 \nQ 20.21875 56 33.015625 56 \nQ 37.15625 56 41.109375 55.140625 \nQ 45.0625 54.296875 48.78125 52.59375 \nz\n\" id=\"DejaVuSans-99\"/>\n       <path d=\"M 18.3125 70.21875 \nL 18.3125 54.6875 \nL 36.8125 54.6875 \nL 36.8125 47.703125 \nL 18.3125 47.703125 \nL 18.3125 18.015625 \nQ 18.3125 11.328125 20.140625 9.421875 \nQ 21.96875 7.515625 27.59375 7.515625 \nL 36.8125 7.515625 \nL 36.8125 0 \nL 27.59375 0 \nQ 17.1875 0 13.234375 3.875 \nQ 9.28125 7.765625 9.28125 18.015625 \nL 9.28125 47.703125 \nL 2.6875 47.703125 \nL 2.6875 54.6875 \nL 9.28125 54.6875 \nL 9.28125 70.21875 \nz\n\" id=\"DejaVuSans-116\"/>\n      </defs>\n      <use xlink:href=\"#DejaVuSans-80\"/>\n      <use x=\"58.552734\" xlink:href=\"#DejaVuSans-114\"/>\n      <use x=\"97.416016\" xlink:href=\"#DejaVuSans-101\"/>\n      <use x=\"158.939453\" xlink:href=\"#DejaVuSans-100\"/>\n      <use x=\"222.416016\" xlink:href=\"#DejaVuSans-105\"/>\n      <use x=\"250.199219\" xlink:href=\"#DejaVuSans-99\"/>\n      <use x=\"305.179688\" xlink:href=\"#DejaVuSans-116\"/>\n      <use x=\"344.388672\" xlink:href=\"#DejaVuSans-101\"/>\n      <use x=\"405.912109\" xlink:href=\"#DejaVuSans-100\"/>\n     </g>\n    </g>\n   </g>\n   <g id=\"matplotlib.axis_2\">\n    <g id=\"ytick_1\">\n     <g id=\"line2d_11\">\n      <defs>\n       <path d=\"M 0 0 \nL -3.5 0 \n\" id=\"mb0ebe157a7\" style=\"stroke:#000000;stroke-width:0.8;\"/>\n      </defs>\n      <g>\n       <use style=\"stroke:#000000;stroke-width:0.8;\" x=\"37.55625\" xlink:href=\"#mb0ebe157a7\" y=\"26.226\"/>\n      </g>\n     </g>\n     <g id=\"text_12\">\n      <!-- 0 -->\n      <g transform=\"translate(28.476562 28.789281)rotate(-90)scale(0.1 -0.1)\">\n       <use xlink:href=\"#DejaVuSans-48\"/>\n      </g>\n     </g>\n    </g>\n    <g id=\"ytick_2\">\n     <g id=\"line2d_12\">\n      <g>\n       <use style=\"stroke:#000000;stroke-width:0.8;\" x=\"37.55625\" xlink:href=\"#mb0ebe157a7\" y=\"64.278\"/>\n      </g>\n     </g>\n     <g id=\"text_13\">\n      <!-- 1 -->\n      <g transform=\"translate(28.476562 66.841281)rotate(-90)scale(0.1 -0.1)\">\n       <use xlink:href=\"#DejaVuSans-49\"/>\n      </g>\n     </g>\n    </g>\n    <g id=\"ytick_3\">\n     <g id=\"line2d_13\">\n      <g>\n       <use style=\"stroke:#000000;stroke-width:0.8;\" x=\"37.55625\" xlink:href=\"#mb0ebe157a7\" y=\"102.33\"/>\n      </g>\n     </g>\n     <g id=\"text_14\">\n      <!-- 2 -->\n      <g transform=\"translate(28.476562 104.893281)rotate(-90)scale(0.1 -0.1)\">\n       <use xlink:href=\"#DejaVuSans-50\"/>\n      </g>\n     </g>\n    </g>\n    <g id=\"ytick_4\">\n     <g id=\"line2d_14\">\n      <g>\n       <use style=\"stroke:#000000;stroke-width:0.8;\" x=\"37.55625\" xlink:href=\"#mb0ebe157a7\" y=\"140.382\"/>\n      </g>\n     </g>\n     <g id=\"text_15\">\n      <!-- 3 -->\n      <g transform=\"translate(28.476562 142.945281)rotate(-90)scale(0.1 -0.1)\">\n       <use xlink:href=\"#DejaVuSans-51\"/>\n      </g>\n     </g>\n    </g>\n    <g id=\"ytick_5\">\n     <g id=\"line2d_15\">\n      <g>\n       <use style=\"stroke:#000000;stroke-width:0.8;\" x=\"37.55625\" xlink:href=\"#mb0ebe157a7\" y=\"178.434\"/>\n      </g>\n     </g>\n     <g id=\"text_16\">\n      <!-- 4 -->\n      <g transform=\"translate(28.476562 180.997281)rotate(-90)scale(0.1 -0.1)\">\n       <use xlink:href=\"#DejaVuSans-52\"/>\n      </g>\n     </g>\n    </g>\n    <g id=\"ytick_6\">\n     <g id=\"line2d_16\">\n      <g>\n       <use style=\"stroke:#000000;stroke-width:0.8;\" x=\"37.55625\" xlink:href=\"#mb0ebe157a7\" y=\"216.486\"/>\n      </g>\n     </g>\n     <g id=\"text_17\">\n      <!-- 5 -->\n      <g transform=\"translate(28.476562 219.049281)rotate(-90)scale(0.1 -0.1)\">\n       <use xlink:href=\"#DejaVuSans-53\"/>\n      </g>\n     </g>\n    </g>\n    <g id=\"ytick_7\">\n     <g id=\"line2d_17\">\n      <g>\n       <use style=\"stroke:#000000;stroke-width:0.8;\" x=\"37.55625\" xlink:href=\"#mb0ebe157a7\" y=\"254.538\"/>\n      </g>\n     </g>\n     <g id=\"text_18\">\n      <!-- 6 -->\n      <g transform=\"translate(28.476562 257.101281)rotate(-90)scale(0.1 -0.1)\">\n       <use xlink:href=\"#DejaVuSans-54\"/>\n      </g>\n     </g>\n    </g>\n    <g id=\"ytick_8\">\n     <g id=\"line2d_18\">\n      <g>\n       <use style=\"stroke:#000000;stroke-width:0.8;\" x=\"37.55625\" xlink:href=\"#mb0ebe157a7\" y=\"292.59\"/>\n      </g>\n     </g>\n     <g id=\"text_19\">\n      <!-- 7 -->\n      <g transform=\"translate(28.476562 295.153281)rotate(-90)scale(0.1 -0.1)\">\n       <use xlink:href=\"#DejaVuSans-55\"/>\n      </g>\n     </g>\n    </g>\n    <g id=\"ytick_9\">\n     <g id=\"line2d_19\">\n      <g>\n       <use style=\"stroke:#000000;stroke-width:0.8;\" x=\"37.55625\" xlink:href=\"#mb0ebe157a7\" y=\"330.642\"/>\n      </g>\n     </g>\n     <g id=\"text_20\">\n      <!-- 8 -->\n      <g transform=\"translate(28.476562 333.205281)rotate(-90)scale(0.1 -0.1)\">\n       <use xlink:href=\"#DejaVuSans-56\"/>\n      </g>\n     </g>\n    </g>\n    <g id=\"ytick_10\">\n     <g id=\"line2d_20\">\n      <g>\n       <use style=\"stroke:#000000;stroke-width:0.8;\" x=\"37.55625\" xlink:href=\"#mb0ebe157a7\" y=\"368.694\"/>\n      </g>\n     </g>\n     <g id=\"text_21\">\n      <!-- 9 -->\n      <g transform=\"translate(28.476562 371.257281)rotate(-90)scale(0.1 -0.1)\">\n       <use xlink:href=\"#DejaVuSans-57\"/>\n      </g>\n     </g>\n    </g>\n    <g id=\"text_22\">\n     <!-- Truth -->\n     <g transform=\"translate(14.798437 210.129531)rotate(-90)scale(0.1 -0.1)\">\n      <defs>\n       <path d=\"M -0.296875 72.90625 \nL 61.375 72.90625 \nL 61.375 64.59375 \nL 35.5 64.59375 \nL 35.5 0 \nL 25.59375 0 \nL 25.59375 64.59375 \nL -0.296875 64.59375 \nz\n\" id=\"DejaVuSans-84\"/>\n       <path d=\"M 8.5 21.578125 \nL 8.5 54.6875 \nL 17.484375 54.6875 \nL 17.484375 21.921875 \nQ 17.484375 14.15625 20.5 10.265625 \nQ 23.53125 6.390625 29.59375 6.390625 \nQ 36.859375 6.390625 41.078125 11.03125 \nQ 45.3125 15.671875 45.3125 23.6875 \nL 45.3125 54.6875 \nL 54.296875 54.6875 \nL 54.296875 0 \nL 45.3125 0 \nL 45.3125 8.40625 \nQ 42.046875 3.421875 37.71875 1 \nQ 33.40625 -1.421875 27.6875 -1.421875 \nQ 18.265625 -1.421875 13.375 4.4375 \nQ 8.5 10.296875 8.5 21.578125 \nz\nM 31.109375 56 \nz\n\" id=\"DejaVuSans-117\"/>\n       <path d=\"M 54.890625 33.015625 \nL 54.890625 0 \nL 45.90625 0 \nL 45.90625 32.71875 \nQ 45.90625 40.484375 42.875 44.328125 \nQ 39.84375 48.1875 33.796875 48.1875 \nQ 26.515625 48.1875 22.3125 43.546875 \nQ 18.109375 38.921875 18.109375 30.90625 \nL 18.109375 0 \nL 9.078125 0 \nL 9.078125 75.984375 \nL 18.109375 75.984375 \nL 18.109375 46.1875 \nQ 21.34375 51.125 25.703125 53.5625 \nQ 30.078125 56 35.796875 56 \nQ 45.21875 56 50.046875 50.171875 \nQ 54.890625 44.34375 54.890625 33.015625 \nz\n\" id=\"DejaVuSans-104\"/>\n      </defs>\n      <use xlink:href=\"#DejaVuSans-84\"/>\n      <use x=\"46.333984\" xlink:href=\"#DejaVuSans-114\"/>\n      <use x=\"87.447266\" xlink:href=\"#DejaVuSans-117\"/>\n      <use x=\"150.826172\" xlink:href=\"#DejaVuSans-116\"/>\n      <use x=\"190.035156\" xlink:href=\"#DejaVuSans-104\"/>\n     </g>\n    </g>\n   </g>\n   <g id=\"text_23\">\n    <!-- 37 -->\n    <g style=\"fill:#262626;\" transform=\"translate(53.51375 28.985375)scale(0.1 -0.1)\">\n     <use xlink:href=\"#DejaVuSans-51\"/>\n     <use x=\"63.623047\" xlink:href=\"#DejaVuSans-55\"/>\n    </g>\n   </g>\n   <g id=\"text_24\">\n    <!-- 0 -->\n    <g style=\"fill:#ffffff;\" transform=\"translate(101.335 28.985375)scale(0.1 -0.1)\">\n     <use xlink:href=\"#DejaVuSans-48\"/>\n    </g>\n   </g>\n   <g id=\"text_25\">\n    <!-- 0 -->\n    <g style=\"fill:#ffffff;\" transform=\"translate(145.975 28.985375)scale(0.1 -0.1)\">\n     <use xlink:href=\"#DejaVuSans-48\"/>\n    </g>\n   </g>\n   <g id=\"text_26\">\n    <!-- 0 -->\n    <g style=\"fill:#ffffff;\" transform=\"translate(190.615 28.985375)scale(0.1 -0.1)\">\n     <use xlink:href=\"#DejaVuSans-48\"/>\n    </g>\n   </g>\n   <g id=\"text_27\">\n    <!-- 0 -->\n    <g style=\"fill:#ffffff;\" transform=\"translate(235.255 28.985375)scale(0.1 -0.1)\">\n     <use xlink:href=\"#DejaVuSans-48\"/>\n    </g>\n   </g>\n   <g id=\"text_28\">\n    <!-- 0 -->\n    <g style=\"fill:#ffffff;\" transform=\"translate(279.895 28.985375)scale(0.1 -0.1)\">\n     <use xlink:href=\"#DejaVuSans-48\"/>\n    </g>\n   </g>\n   <g id=\"text_29\">\n    <!-- 0 -->\n    <g style=\"fill:#ffffff;\" transform=\"translate(324.535 28.985375)scale(0.1 -0.1)\">\n     <use xlink:href=\"#DejaVuSans-48\"/>\n    </g>\n   </g>\n   <g id=\"text_30\">\n    <!-- 0 -->\n    <g style=\"fill:#ffffff;\" transform=\"translate(369.175 28.985375)scale(0.1 -0.1)\">\n     <use xlink:href=\"#DejaVuSans-48\"/>\n    </g>\n   </g>\n   <g id=\"text_31\">\n    <!-- 0 -->\n    <g style=\"fill:#ffffff;\" transform=\"translate(413.815 28.985375)scale(0.1 -0.1)\">\n     <use xlink:href=\"#DejaVuSans-48\"/>\n    </g>\n   </g>\n   <g id=\"text_32\">\n    <!-- 0 -->\n    <g style=\"fill:#ffffff;\" transform=\"translate(458.455 28.985375)scale(0.1 -0.1)\">\n     <use xlink:href=\"#DejaVuSans-48\"/>\n    </g>\n   </g>\n   <g id=\"text_33\">\n    <!-- 0 -->\n    <g style=\"fill:#ffffff;\" transform=\"translate(56.695 67.037375)scale(0.1 -0.1)\">\n     <use xlink:href=\"#DejaVuSans-48\"/>\n    </g>\n   </g>\n   <g id=\"text_34\">\n    <!-- 40 -->\n    <g style=\"fill:#262626;\" transform=\"translate(98.15375 67.037375)scale(0.1 -0.1)\">\n     <use xlink:href=\"#DejaVuSans-52\"/>\n     <use x=\"63.623047\" xlink:href=\"#DejaVuSans-48\"/>\n    </g>\n   </g>\n   <g id=\"text_35\">\n    <!-- 0 -->\n    <g style=\"fill:#ffffff;\" transform=\"translate(145.975 67.037375)scale(0.1 -0.1)\">\n     <use xlink:href=\"#DejaVuSans-48\"/>\n    </g>\n   </g>\n   <g id=\"text_36\">\n    <!-- 0 -->\n    <g style=\"fill:#ffffff;\" transform=\"translate(190.615 67.037375)scale(0.1 -0.1)\">\n     <use xlink:href=\"#DejaVuSans-48\"/>\n    </g>\n   </g>\n   <g id=\"text_37\">\n    <!-- 0 -->\n    <g style=\"fill:#ffffff;\" transform=\"translate(235.255 67.037375)scale(0.1 -0.1)\">\n     <use xlink:href=\"#DejaVuSans-48\"/>\n    </g>\n   </g>\n   <g id=\"text_38\">\n    <!-- 0 -->\n    <g style=\"fill:#ffffff;\" transform=\"translate(279.895 67.037375)scale(0.1 -0.1)\">\n     <use xlink:href=\"#DejaVuSans-48\"/>\n    </g>\n   </g>\n   <g id=\"text_39\">\n    <!-- 0 -->\n    <g style=\"fill:#ffffff;\" transform=\"translate(324.535 67.037375)scale(0.1 -0.1)\">\n     <use xlink:href=\"#DejaVuSans-48\"/>\n    </g>\n   </g>\n   <g id=\"text_40\">\n    <!-- 0 -->\n    <g style=\"fill:#ffffff;\" transform=\"translate(369.175 67.037375)scale(0.1 -0.1)\">\n     <use xlink:href=\"#DejaVuSans-48\"/>\n    </g>\n   </g>\n   <g id=\"text_41\">\n    <!-- 0 -->\n    <g style=\"fill:#ffffff;\" transform=\"translate(413.815 67.037375)scale(0.1 -0.1)\">\n     <use xlink:href=\"#DejaVuSans-48\"/>\n    </g>\n   </g>\n   <g id=\"text_42\">\n    <!-- 0 -->\n    <g style=\"fill:#ffffff;\" transform=\"translate(458.455 67.037375)scale(0.1 -0.1)\">\n     <use xlink:href=\"#DejaVuSans-48\"/>\n    </g>\n   </g>\n   <g id=\"text_43\">\n    <!-- 0 -->\n    <g style=\"fill:#ffffff;\" transform=\"translate(56.695 105.089375)scale(0.1 -0.1)\">\n     <use xlink:href=\"#DejaVuSans-48\"/>\n    </g>\n   </g>\n   <g id=\"text_44\">\n    <!-- 0 -->\n    <g style=\"fill:#ffffff;\" transform=\"translate(101.335 105.089375)scale(0.1 -0.1)\">\n     <use xlink:href=\"#DejaVuSans-48\"/>\n    </g>\n   </g>\n   <g id=\"text_45\">\n    <!-- 30 -->\n    <g style=\"fill:#ffffff;\" transform=\"translate(142.79375 105.089375)scale(0.1 -0.1)\">\n     <use xlink:href=\"#DejaVuSans-51\"/>\n     <use x=\"63.623047\" xlink:href=\"#DejaVuSans-48\"/>\n    </g>\n   </g>\n   <g id=\"text_46\">\n    <!-- 0 -->\n    <g style=\"fill:#ffffff;\" transform=\"translate(190.615 105.089375)scale(0.1 -0.1)\">\n     <use xlink:href=\"#DejaVuSans-48\"/>\n    </g>\n   </g>\n   <g id=\"text_47\">\n    <!-- 0 -->\n    <g style=\"fill:#ffffff;\" transform=\"translate(235.255 105.089375)scale(0.1 -0.1)\">\n     <use xlink:href=\"#DejaVuSans-48\"/>\n    </g>\n   </g>\n   <g id=\"text_48\">\n    <!-- 0 -->\n    <g style=\"fill:#ffffff;\" transform=\"translate(279.895 105.089375)scale(0.1 -0.1)\">\n     <use xlink:href=\"#DejaVuSans-48\"/>\n    </g>\n   </g>\n   <g id=\"text_49\">\n    <!-- 0 -->\n    <g style=\"fill:#ffffff;\" transform=\"translate(324.535 105.089375)scale(0.1 -0.1)\">\n     <use xlink:href=\"#DejaVuSans-48\"/>\n    </g>\n   </g>\n   <g id=\"text_50\">\n    <!-- 0 -->\n    <g style=\"fill:#ffffff;\" transform=\"translate(369.175 105.089375)scale(0.1 -0.1)\">\n     <use xlink:href=\"#DejaVuSans-48\"/>\n    </g>\n   </g>\n   <g id=\"text_51\">\n    <!-- 0 -->\n    <g style=\"fill:#ffffff;\" transform=\"translate(413.815 105.089375)scale(0.1 -0.1)\">\n     <use xlink:href=\"#DejaVuSans-48\"/>\n    </g>\n   </g>\n   <g id=\"text_52\">\n    <!-- 0 -->\n    <g style=\"fill:#ffffff;\" transform=\"translate(458.455 105.089375)scale(0.1 -0.1)\">\n     <use xlink:href=\"#DejaVuSans-48\"/>\n    </g>\n   </g>\n   <g id=\"text_53\">\n    <!-- 0 -->\n    <g style=\"fill:#ffffff;\" transform=\"translate(56.695 143.141375)scale(0.1 -0.1)\">\n     <use xlink:href=\"#DejaVuSans-48\"/>\n    </g>\n   </g>\n   <g id=\"text_54\">\n    <!-- 0 -->\n    <g style=\"fill:#ffffff;\" transform=\"translate(101.335 143.141375)scale(0.1 -0.1)\">\n     <use xlink:href=\"#DejaVuSans-48\"/>\n    </g>\n   </g>\n   <g id=\"text_55\">\n    <!-- 0 -->\n    <g style=\"fill:#ffffff;\" transform=\"translate(145.975 143.141375)scale(0.1 -0.1)\">\n     <use xlink:href=\"#DejaVuSans-48\"/>\n    </g>\n   </g>\n   <g id=\"text_56\">\n    <!-- 40 -->\n    <g style=\"fill:#262626;\" transform=\"translate(187.43375 143.141375)scale(0.1 -0.1)\">\n     <use xlink:href=\"#DejaVuSans-52\"/>\n     <use x=\"63.623047\" xlink:href=\"#DejaVuSans-48\"/>\n    </g>\n   </g>\n   <g id=\"text_57\">\n    <!-- 0 -->\n    <g style=\"fill:#ffffff;\" transform=\"translate(235.255 143.141375)scale(0.1 -0.1)\">\n     <use xlink:href=\"#DejaVuSans-48\"/>\n    </g>\n   </g>\n   <g id=\"text_58\">\n    <!-- 0 -->\n    <g style=\"fill:#ffffff;\" transform=\"translate(279.895 143.141375)scale(0.1 -0.1)\">\n     <use xlink:href=\"#DejaVuSans-48\"/>\n    </g>\n   </g>\n   <g id=\"text_59\">\n    <!-- 0 -->\n    <g style=\"fill:#ffffff;\" transform=\"translate(324.535 143.141375)scale(0.1 -0.1)\">\n     <use xlink:href=\"#DejaVuSans-48\"/>\n    </g>\n   </g>\n   <g id=\"text_60\">\n    <!-- 0 -->\n    <g style=\"fill:#ffffff;\" transform=\"translate(369.175 143.141375)scale(0.1 -0.1)\">\n     <use xlink:href=\"#DejaVuSans-48\"/>\n    </g>\n   </g>\n   <g id=\"text_61\">\n    <!-- 0 -->\n    <g style=\"fill:#ffffff;\" transform=\"translate(413.815 143.141375)scale(0.1 -0.1)\">\n     <use xlink:href=\"#DejaVuSans-48\"/>\n    </g>\n   </g>\n   <g id=\"text_62\">\n    <!-- 0 -->\n    <g style=\"fill:#ffffff;\" transform=\"translate(458.455 143.141375)scale(0.1 -0.1)\">\n     <use xlink:href=\"#DejaVuSans-48\"/>\n    </g>\n   </g>\n   <g id=\"text_63\">\n    <!-- 0 -->\n    <g style=\"fill:#ffffff;\" transform=\"translate(56.695 181.193375)scale(0.1 -0.1)\">\n     <use xlink:href=\"#DejaVuSans-48\"/>\n    </g>\n   </g>\n   <g id=\"text_64\">\n    <!-- 0 -->\n    <g style=\"fill:#ffffff;\" transform=\"translate(101.335 181.193375)scale(0.1 -0.1)\">\n     <use xlink:href=\"#DejaVuSans-48\"/>\n    </g>\n   </g>\n   <g id=\"text_65\">\n    <!-- 0 -->\n    <g style=\"fill:#ffffff;\" transform=\"translate(145.975 181.193375)scale(0.1 -0.1)\">\n     <use xlink:href=\"#DejaVuSans-48\"/>\n    </g>\n   </g>\n   <g id=\"text_66\">\n    <!-- 0 -->\n    <g style=\"fill:#ffffff;\" transform=\"translate(190.615 181.193375)scale(0.1 -0.1)\">\n     <use xlink:href=\"#DejaVuSans-48\"/>\n    </g>\n   </g>\n   <g id=\"text_67\">\n    <!-- 40 -->\n    <g style=\"fill:#262626;\" transform=\"translate(232.07375 181.193375)scale(0.1 -0.1)\">\n     <use xlink:href=\"#DejaVuSans-52\"/>\n     <use x=\"63.623047\" xlink:href=\"#DejaVuSans-48\"/>\n    </g>\n   </g>\n   <g id=\"text_68\">\n    <!-- 0 -->\n    <g style=\"fill:#ffffff;\" transform=\"translate(279.895 181.193375)scale(0.1 -0.1)\">\n     <use xlink:href=\"#DejaVuSans-48\"/>\n    </g>\n   </g>\n   <g id=\"text_69\">\n    <!-- 0 -->\n    <g style=\"fill:#ffffff;\" transform=\"translate(324.535 181.193375)scale(0.1 -0.1)\">\n     <use xlink:href=\"#DejaVuSans-48\"/>\n    </g>\n   </g>\n   <g id=\"text_70\">\n    <!-- 0 -->\n    <g style=\"fill:#ffffff;\" transform=\"translate(369.175 181.193375)scale(0.1 -0.1)\">\n     <use xlink:href=\"#DejaVuSans-48\"/>\n    </g>\n   </g>\n   <g id=\"text_71\">\n    <!-- 0 -->\n    <g style=\"fill:#ffffff;\" transform=\"translate(413.815 181.193375)scale(0.1 -0.1)\">\n     <use xlink:href=\"#DejaVuSans-48\"/>\n    </g>\n   </g>\n   <g id=\"text_72\">\n    <!-- 0 -->\n    <g style=\"fill:#ffffff;\" transform=\"translate(458.455 181.193375)scale(0.1 -0.1)\">\n     <use xlink:href=\"#DejaVuSans-48\"/>\n    </g>\n   </g>\n   <g id=\"text_73\">\n    <!-- 0 -->\n    <g style=\"fill:#ffffff;\" transform=\"translate(56.695 219.245375)scale(0.1 -0.1)\">\n     <use xlink:href=\"#DejaVuSans-48\"/>\n    </g>\n   </g>\n   <g id=\"text_74\">\n    <!-- 0 -->\n    <g style=\"fill:#ffffff;\" transform=\"translate(101.335 219.245375)scale(0.1 -0.1)\">\n     <use xlink:href=\"#DejaVuSans-48\"/>\n    </g>\n   </g>\n   <g id=\"text_75\">\n    <!-- 0 -->\n    <g style=\"fill:#ffffff;\" transform=\"translate(145.975 219.245375)scale(0.1 -0.1)\">\n     <use xlink:href=\"#DejaVuSans-48\"/>\n    </g>\n   </g>\n   <g id=\"text_76\">\n    <!-- 0 -->\n    <g style=\"fill:#ffffff;\" transform=\"translate(190.615 219.245375)scale(0.1 -0.1)\">\n     <use xlink:href=\"#DejaVuSans-48\"/>\n    </g>\n   </g>\n   <g id=\"text_77\">\n    <!-- 0 -->\n    <g style=\"fill:#ffffff;\" transform=\"translate(235.255 219.245375)scale(0.1 -0.1)\">\n     <use xlink:href=\"#DejaVuSans-48\"/>\n    </g>\n   </g>\n   <g id=\"text_78\">\n    <!-- 34 -->\n    <g style=\"fill:#262626;\" transform=\"translate(276.71375 219.245375)scale(0.1 -0.1)\">\n     <use xlink:href=\"#DejaVuSans-51\"/>\n     <use x=\"63.623047\" xlink:href=\"#DejaVuSans-52\"/>\n    </g>\n   </g>\n   <g id=\"text_79\">\n    <!-- 0 -->\n    <g style=\"fill:#ffffff;\" transform=\"translate(324.535 219.245375)scale(0.1 -0.1)\">\n     <use xlink:href=\"#DejaVuSans-48\"/>\n    </g>\n   </g>\n   <g id=\"text_80\">\n    <!-- 0 -->\n    <g style=\"fill:#ffffff;\" transform=\"translate(369.175 219.245375)scale(0.1 -0.1)\">\n     <use xlink:href=\"#DejaVuSans-48\"/>\n    </g>\n   </g>\n   <g id=\"text_81\">\n    <!-- 0 -->\n    <g style=\"fill:#ffffff;\" transform=\"translate(413.815 219.245375)scale(0.1 -0.1)\">\n     <use xlink:href=\"#DejaVuSans-48\"/>\n    </g>\n   </g>\n   <g id=\"text_82\">\n    <!-- 0 -->\n    <g style=\"fill:#ffffff;\" transform=\"translate(458.455 219.245375)scale(0.1 -0.1)\">\n     <use xlink:href=\"#DejaVuSans-48\"/>\n    </g>\n   </g>\n   <g id=\"text_83\">\n    <!-- 0 -->\n    <g style=\"fill:#ffffff;\" transform=\"translate(56.695 257.297375)scale(0.1 -0.1)\">\n     <use xlink:href=\"#DejaVuSans-48\"/>\n    </g>\n   </g>\n   <g id=\"text_84\">\n    <!-- 0 -->\n    <g style=\"fill:#ffffff;\" transform=\"translate(101.335 257.297375)scale(0.1 -0.1)\">\n     <use xlink:href=\"#DejaVuSans-48\"/>\n    </g>\n   </g>\n   <g id=\"text_85\">\n    <!-- 0 -->\n    <g style=\"fill:#ffffff;\" transform=\"translate(145.975 257.297375)scale(0.1 -0.1)\">\n     <use xlink:href=\"#DejaVuSans-48\"/>\n    </g>\n   </g>\n   <g id=\"text_86\">\n    <!-- 0 -->\n    <g style=\"fill:#ffffff;\" transform=\"translate(190.615 257.297375)scale(0.1 -0.1)\">\n     <use xlink:href=\"#DejaVuSans-48\"/>\n    </g>\n   </g>\n   <g id=\"text_87\">\n    <!-- 0 -->\n    <g style=\"fill:#ffffff;\" transform=\"translate(235.255 257.297375)scale(0.1 -0.1)\">\n     <use xlink:href=\"#DejaVuSans-48\"/>\n    </g>\n   </g>\n   <g id=\"text_88\">\n    <!-- 0 -->\n    <g style=\"fill:#ffffff;\" transform=\"translate(279.895 257.297375)scale(0.1 -0.1)\">\n     <use xlink:href=\"#DejaVuSans-48\"/>\n    </g>\n   </g>\n   <g id=\"text_89\">\n    <!-- 23 -->\n    <g style=\"fill:#ffffff;\" transform=\"translate(321.35375 257.297375)scale(0.1 -0.1)\">\n     <use xlink:href=\"#DejaVuSans-50\"/>\n     <use x=\"63.623047\" xlink:href=\"#DejaVuSans-51\"/>\n    </g>\n   </g>\n   <g id=\"text_90\">\n    <!-- 0 -->\n    <g style=\"fill:#ffffff;\" transform=\"translate(369.175 257.297375)scale(0.1 -0.1)\">\n     <use xlink:href=\"#DejaVuSans-48\"/>\n    </g>\n   </g>\n   <g id=\"text_91\">\n    <!-- 0 -->\n    <g style=\"fill:#ffffff;\" transform=\"translate(413.815 257.297375)scale(0.1 -0.1)\">\n     <use xlink:href=\"#DejaVuSans-48\"/>\n    </g>\n   </g>\n   <g id=\"text_92\">\n    <!-- 0 -->\n    <g style=\"fill:#ffffff;\" transform=\"translate(458.455 257.297375)scale(0.1 -0.1)\">\n     <use xlink:href=\"#DejaVuSans-48\"/>\n    </g>\n   </g>\n   <g id=\"text_93\">\n    <!-- 0 -->\n    <g style=\"fill:#ffffff;\" transform=\"translate(56.695 295.349375)scale(0.1 -0.1)\">\n     <use xlink:href=\"#DejaVuSans-48\"/>\n    </g>\n   </g>\n   <g id=\"text_94\">\n    <!-- 0 -->\n    <g style=\"fill:#ffffff;\" transform=\"translate(101.335 295.349375)scale(0.1 -0.1)\">\n     <use xlink:href=\"#DejaVuSans-48\"/>\n    </g>\n   </g>\n   <g id=\"text_95\">\n    <!-- 0 -->\n    <g style=\"fill:#ffffff;\" transform=\"translate(145.975 295.349375)scale(0.1 -0.1)\">\n     <use xlink:href=\"#DejaVuSans-48\"/>\n    </g>\n   </g>\n   <g id=\"text_96\">\n    <!-- 0 -->\n    <g style=\"fill:#ffffff;\" transform=\"translate(190.615 295.349375)scale(0.1 -0.1)\">\n     <use xlink:href=\"#DejaVuSans-48\"/>\n    </g>\n   </g>\n   <g id=\"text_97\">\n    <!-- 0 -->\n    <g style=\"fill:#ffffff;\" transform=\"translate(235.255 295.349375)scale(0.1 -0.1)\">\n     <use xlink:href=\"#DejaVuSans-48\"/>\n    </g>\n   </g>\n   <g id=\"text_98\">\n    <!-- 0 -->\n    <g style=\"fill:#ffffff;\" transform=\"translate(279.895 295.349375)scale(0.1 -0.1)\">\n     <use xlink:href=\"#DejaVuSans-48\"/>\n    </g>\n   </g>\n   <g id=\"text_99\">\n    <!-- 0 -->\n    <g style=\"fill:#ffffff;\" transform=\"translate(324.535 295.349375)scale(0.1 -0.1)\">\n     <use xlink:href=\"#DejaVuSans-48\"/>\n    </g>\n   </g>\n   <g id=\"text_100\">\n    <!-- 31 -->\n    <g style=\"fill:#ffffff;\" transform=\"translate(365.99375 295.349375)scale(0.1 -0.1)\">\n     <use xlink:href=\"#DejaVuSans-51\"/>\n     <use x=\"63.623047\" xlink:href=\"#DejaVuSans-49\"/>\n    </g>\n   </g>\n   <g id=\"text_101\">\n    <!-- 0 -->\n    <g style=\"fill:#ffffff;\" transform=\"translate(413.815 295.349375)scale(0.1 -0.1)\">\n     <use xlink:href=\"#DejaVuSans-48\"/>\n    </g>\n   </g>\n   <g id=\"text_102\">\n    <!-- 1 -->\n    <g style=\"fill:#ffffff;\" transform=\"translate(458.455 295.349375)scale(0.1 -0.1)\">\n     <use xlink:href=\"#DejaVuSans-49\"/>\n    </g>\n   </g>\n   <g id=\"text_103\">\n    <!-- 0 -->\n    <g style=\"fill:#ffffff;\" transform=\"translate(56.695 333.401375)scale(0.1 -0.1)\">\n     <use xlink:href=\"#DejaVuSans-48\"/>\n    </g>\n   </g>\n   <g id=\"text_104\">\n    <!-- 1 -->\n    <g style=\"fill:#ffffff;\" transform=\"translate(101.335 333.401375)scale(0.1 -0.1)\">\n     <use xlink:href=\"#DejaVuSans-49\"/>\n    </g>\n   </g>\n   <g id=\"text_105\">\n    <!-- 0 -->\n    <g style=\"fill:#ffffff;\" transform=\"translate(145.975 333.401375)scale(0.1 -0.1)\">\n     <use xlink:href=\"#DejaVuSans-48\"/>\n    </g>\n   </g>\n   <g id=\"text_106\">\n    <!-- 0 -->\n    <g style=\"fill:#ffffff;\" transform=\"translate(190.615 333.401375)scale(0.1 -0.1)\">\n     <use xlink:href=\"#DejaVuSans-48\"/>\n    </g>\n   </g>\n   <g id=\"text_107\">\n    <!-- 0 -->\n    <g style=\"fill:#ffffff;\" transform=\"translate(235.255 333.401375)scale(0.1 -0.1)\">\n     <use xlink:href=\"#DejaVuSans-48\"/>\n    </g>\n   </g>\n   <g id=\"text_108\">\n    <!-- 0 -->\n    <g style=\"fill:#ffffff;\" transform=\"translate(279.895 333.401375)scale(0.1 -0.1)\">\n     <use xlink:href=\"#DejaVuSans-48\"/>\n    </g>\n   </g>\n   <g id=\"text_109\">\n    <!-- 0 -->\n    <g style=\"fill:#ffffff;\" transform=\"translate(324.535 333.401375)scale(0.1 -0.1)\">\n     <use xlink:href=\"#DejaVuSans-48\"/>\n    </g>\n   </g>\n   <g id=\"text_110\">\n    <!-- 0 -->\n    <g style=\"fill:#ffffff;\" transform=\"translate(369.175 333.401375)scale(0.1 -0.1)\">\n     <use xlink:href=\"#DejaVuSans-48\"/>\n    </g>\n   </g>\n   <g id=\"text_111\">\n    <!-- 43 -->\n    <g style=\"fill:#262626;\" transform=\"translate(410.63375 333.401375)scale(0.1 -0.1)\">\n     <use xlink:href=\"#DejaVuSans-52\"/>\n     <use x=\"63.623047\" xlink:href=\"#DejaVuSans-51\"/>\n    </g>\n   </g>\n   <g id=\"text_112\">\n    <!-- 0 -->\n    <g style=\"fill:#ffffff;\" transform=\"translate(458.455 333.401375)scale(0.1 -0.1)\">\n     <use xlink:href=\"#DejaVuSans-48\"/>\n    </g>\n   </g>\n   <g id=\"text_113\">\n    <!-- 0 -->\n    <g style=\"fill:#ffffff;\" transform=\"translate(56.695 371.453375)scale(0.1 -0.1)\">\n     <use xlink:href=\"#DejaVuSans-48\"/>\n    </g>\n   </g>\n   <g id=\"text_114\">\n    <!-- 0 -->\n    <g style=\"fill:#ffffff;\" transform=\"translate(101.335 371.453375)scale(0.1 -0.1)\">\n     <use xlink:href=\"#DejaVuSans-48\"/>\n    </g>\n   </g>\n   <g id=\"text_115\">\n    <!-- 0 -->\n    <g style=\"fill:#ffffff;\" transform=\"translate(145.975 371.453375)scale(0.1 -0.1)\">\n     <use xlink:href=\"#DejaVuSans-48\"/>\n    </g>\n   </g>\n   <g id=\"text_116\">\n    <!-- 0 -->\n    <g style=\"fill:#ffffff;\" transform=\"translate(190.615 371.453375)scale(0.1 -0.1)\">\n     <use xlink:href=\"#DejaVuSans-48\"/>\n    </g>\n   </g>\n   <g id=\"text_117\">\n    <!-- 0 -->\n    <g style=\"fill:#ffffff;\" transform=\"translate(235.255 371.453375)scale(0.1 -0.1)\">\n     <use xlink:href=\"#DejaVuSans-48\"/>\n    </g>\n   </g>\n   <g id=\"text_118\">\n    <!-- 0 -->\n    <g style=\"fill:#ffffff;\" transform=\"translate(279.895 371.453375)scale(0.1 -0.1)\">\n     <use xlink:href=\"#DejaVuSans-48\"/>\n    </g>\n   </g>\n   <g id=\"text_119\">\n    <!-- 0 -->\n    <g style=\"fill:#ffffff;\" transform=\"translate(324.535 371.453375)scale(0.1 -0.1)\">\n     <use xlink:href=\"#DejaVuSans-48\"/>\n    </g>\n   </g>\n   <g id=\"text_120\">\n    <!-- 0 -->\n    <g style=\"fill:#ffffff;\" transform=\"translate(369.175 371.453375)scale(0.1 -0.1)\">\n     <use xlink:href=\"#DejaVuSans-48\"/>\n    </g>\n   </g>\n   <g id=\"text_121\">\n    <!-- 0 -->\n    <g style=\"fill:#ffffff;\" transform=\"translate(413.815 371.453375)scale(0.1 -0.1)\">\n     <use xlink:href=\"#DejaVuSans-48\"/>\n    </g>\n   </g>\n   <g id=\"text_122\">\n    <!-- 40 -->\n    <g style=\"fill:#262626;\" transform=\"translate(455.27375 371.453375)scale(0.1 -0.1)\">\n     <use xlink:href=\"#DejaVuSans-52\"/>\n     <use x=\"63.623047\" xlink:href=\"#DejaVuSans-48\"/>\n    </g>\n   </g>\n  </g>\n  <g id=\"axes_2\">\n   <g id=\"patch_3\">\n    <path clip-path=\"url(#pc22ed9b6ab)\" d=\"M 511.85625 387.72 \nL 511.85625 386.233594 \nL 511.85625 8.686406 \nL 511.85625 7.2 \nL 530.88225 7.2 \nL 530.88225 8.686406 \nL 530.88225 386.233594 \nL 530.88225 387.72 \nz\n\" style=\"fill:#ffffff;stroke:#ffffff;stroke-linejoin:miter;stroke-width:0.01;\"/>\n   </g>\n   <image height=\"380\" id=\"imagedc0e621f36\" transform=\"scale(1 -1)translate(0 -380)\" width=\"19\" x=\"512\" xlink:href=\"data:image/png;base64,\niVBORw0KGgoAAAANSUhEUgAAABMAAAF8CAYAAAAthYD3AAAB+ElEQVR4nO2d0a3DMAwDrdRvibf/nu0MCu7jAFIDED2TkhUgbefz9/89UN2hlM45d4aTezClA3+yO4cU057ZYz0zM6bXzYZ2LSbGzHATnbRkNMS3ExmNYu7rznB6MfdmMbdVzH3FYGasByGY7BakDW3IesCGFpNyL8jtgLWYGJN1k6u6ua8UN0N2DVItZUH2hjbl3iTFvFtQTG+CYiGYKb2pxWxo92JkNLoe7Mvbmz2zfcEdgL1ilOQmV+J5Zh7bpBjYAQ3tvurmC7EQN0frJvxUx5V4PeiFsi71COI4xaH19ibr5lfrJilmHkGcAeoRRGJiUvJGl56ZGlM7z8AZhJ6ZeWyDDwK0m2BoxbcTihniJmgn/cYSOWm1bpIGxIQWXB3NbooxM3oTlBP3Jpkz84WCYop7kxTzYqb0JiqGdgCmBZ/ZYXcNTMsdDU4MdrOYa7EYTOsbS8V8I2bFJA1Az4x2k3wxS+smiikOLfmNPy8m7Cb34cSYKb0JrkFmTK2bA7aTGJPMmRnT6mZKo5PtJMYMcVO8a7CboxbTOs/Ut5PVTfYZXTyCItxMGUEZvcmGVvuTGDG9Wcy1WDG3Ze7NkPUgJBoZmDMfTsyLqe2AYu7rnocMrRgzws2UEZRxocCYXDTUmFY30T8K8WI2tC/EtG42tC/ErKH9AbQcLrd0m9O8AAAAAElFTkSuQmCC\" y=\"-7\"/>\n   <g id=\"matplotlib.axis_3\"/>\n   <g id=\"matplotlib.axis_4\">\n    <g id=\"ytick_11\">\n     <g id=\"line2d_21\">\n      <defs>\n       <path d=\"M 0 0 \nL 3.5 0 \n\" id=\"m6044ace55f\" style=\"stroke:#000000;stroke-width:0.8;\"/>\n      </defs>\n      <g>\n       <use style=\"stroke:#000000;stroke-width:0.8;\" x=\"530.88225\" xlink:href=\"#m6044ace55f\" y=\"387.72\"/>\n      </g>\n     </g>\n     <g id=\"text_123\">\n      <!-- 0 -->\n      <g transform=\"translate(537.88225 391.519219)scale(0.1 -0.1)\">\n       <use xlink:href=\"#DejaVuSans-48\"/>\n      </g>\n     </g>\n    </g>\n    <g id=\"ytick_12\">\n     <g id=\"line2d_22\">\n      <g>\n       <use style=\"stroke:#000000;stroke-width:0.8;\" x=\"530.88225\" xlink:href=\"#m6044ace55f\" y=\"343.473488\"/>\n      </g>\n     </g>\n     <g id=\"text_124\">\n      <!-- 5 -->\n      <g transform=\"translate(537.88225 347.272707)scale(0.1 -0.1)\">\n       <use xlink:href=\"#DejaVuSans-53\"/>\n      </g>\n     </g>\n    </g>\n    <g id=\"ytick_13\">\n     <g id=\"line2d_23\">\n      <g>\n       <use style=\"stroke:#000000;stroke-width:0.8;\" x=\"530.88225\" xlink:href=\"#m6044ace55f\" y=\"299.226977\"/>\n      </g>\n     </g>\n     <g id=\"text_125\">\n      <!-- 10 -->\n      <g transform=\"translate(537.88225 303.026195)scale(0.1 -0.1)\">\n       <use xlink:href=\"#DejaVuSans-49\"/>\n       <use x=\"63.623047\" xlink:href=\"#DejaVuSans-48\"/>\n      </g>\n     </g>\n    </g>\n    <g id=\"ytick_14\">\n     <g id=\"line2d_24\">\n      <g>\n       <use style=\"stroke:#000000;stroke-width:0.8;\" x=\"530.88225\" xlink:href=\"#m6044ace55f\" y=\"254.980465\"/>\n      </g>\n     </g>\n     <g id=\"text_126\">\n      <!-- 15 -->\n      <g transform=\"translate(537.88225 258.779684)scale(0.1 -0.1)\">\n       <use xlink:href=\"#DejaVuSans-49\"/>\n       <use x=\"63.623047\" xlink:href=\"#DejaVuSans-53\"/>\n      </g>\n     </g>\n    </g>\n    <g id=\"ytick_15\">\n     <g id=\"line2d_25\">\n      <g>\n       <use style=\"stroke:#000000;stroke-width:0.8;\" x=\"530.88225\" xlink:href=\"#m6044ace55f\" y=\"210.733953\"/>\n      </g>\n     </g>\n     <g id=\"text_127\">\n      <!-- 20 -->\n      <g transform=\"translate(537.88225 214.533172)scale(0.1 -0.1)\">\n       <use xlink:href=\"#DejaVuSans-50\"/>\n       <use x=\"63.623047\" xlink:href=\"#DejaVuSans-48\"/>\n      </g>\n     </g>\n    </g>\n    <g id=\"ytick_16\">\n     <g id=\"line2d_26\">\n      <g>\n       <use style=\"stroke:#000000;stroke-width:0.8;\" x=\"530.88225\" xlink:href=\"#m6044ace55f\" y=\"166.487442\"/>\n      </g>\n     </g>\n     <g id=\"text_128\">\n      <!-- 25 -->\n      <g transform=\"translate(537.88225 170.286661)scale(0.1 -0.1)\">\n       <use xlink:href=\"#DejaVuSans-50\"/>\n       <use x=\"63.623047\" xlink:href=\"#DejaVuSans-53\"/>\n      </g>\n     </g>\n    </g>\n    <g id=\"ytick_17\">\n     <g id=\"line2d_27\">\n      <g>\n       <use style=\"stroke:#000000;stroke-width:0.8;\" x=\"530.88225\" xlink:href=\"#m6044ace55f\" y=\"122.24093\"/>\n      </g>\n     </g>\n     <g id=\"text_129\">\n      <!-- 30 -->\n      <g transform=\"translate(537.88225 126.040149)scale(0.1 -0.1)\">\n       <use xlink:href=\"#DejaVuSans-51\"/>\n       <use x=\"63.623047\" xlink:href=\"#DejaVuSans-48\"/>\n      </g>\n     </g>\n    </g>\n    <g id=\"ytick_18\">\n     <g id=\"line2d_28\">\n      <g>\n       <use style=\"stroke:#000000;stroke-width:0.8;\" x=\"530.88225\" xlink:href=\"#m6044ace55f\" y=\"77.994419\"/>\n      </g>\n     </g>\n     <g id=\"text_130\">\n      <!-- 35 -->\n      <g transform=\"translate(537.88225 81.793637)scale(0.1 -0.1)\">\n       <use xlink:href=\"#DejaVuSans-51\"/>\n       <use x=\"63.623047\" xlink:href=\"#DejaVuSans-53\"/>\n      </g>\n     </g>\n    </g>\n    <g id=\"ytick_19\">\n     <g id=\"line2d_29\">\n      <g>\n       <use style=\"stroke:#000000;stroke-width:0.8;\" x=\"530.88225\" xlink:href=\"#m6044ace55f\" y=\"33.747907\"/>\n      </g>\n     </g>\n     <g id=\"text_131\">\n      <!-- 40 -->\n      <g transform=\"translate(537.88225 37.547126)scale(0.1 -0.1)\">\n       <use xlink:href=\"#DejaVuSans-52\"/>\n       <use x=\"63.623047\" xlink:href=\"#DejaVuSans-48\"/>\n      </g>\n     </g>\n    </g>\n   </g>\n   <g id=\"patch_4\">\n    <path d=\"M 511.85625 387.72 \nL 511.85625 386.233594 \nL 511.85625 8.686406 \nL 511.85625 7.2 \nL 530.88225 7.2 \nL 530.88225 8.686406 \nL 530.88225 386.233594 \nL 530.88225 387.72 \nz\n\" style=\"fill:none;\"/>\n   </g>\n  </g>\n </g>\n <defs>\n  <clipPath id=\"p026b4ed674\">\n   <rect height=\"380.52\" width=\"446.4\" x=\"37.55625\" y=\"7.2\"/>\n  </clipPath>\n  <clipPath id=\"pc22ed9b6ab\">\n   <rect height=\"380.52\" width=\"19.026\" x=\"511.85625\" y=\"7.2\"/>\n  </clipPath>\n </defs>\n</svg>\n",
      "text/plain": [
       "<Figure size 720x504 with 2 Axes>"
      ]
     },
     "metadata": {
      "needs_background": "light"
     },
     "output_type": "display_data"
    }
   ],
   "source": [
    "import matplotlib.pyplot as plt\n",
    "import seaborn as sn\n",
    "plt.figure(figsize=(10,7))\n",
    "sn.heatmap(cm, annot=True)\n",
    "plt.xlabel('Predicted')\n",
    "plt.ylabel('Truth')"
   ]
  },
  {
   "cell_type": "code",
   "execution_count": null,
   "metadata": {},
   "outputs": [],
   "source": []
  }
 ],
 "metadata": {
  "kernelspec": {
   "display_name": "Python 3.8.8 ('base')",
   "language": "python",
   "name": "python3"
  },
  "language_info": {
   "codemirror_mode": {
    "name": "ipython",
    "version": 3
   },
   "file_extension": ".py",
   "mimetype": "text/x-python",
   "name": "python",
   "nbconvert_exporter": "python",
   "pygments_lexer": "ipython3",
   "version": "3.8.8"
  },
  "orig_nbformat": 2,
  "vscode": {
   "interpreter": {
    "hash": "f79dc16612ed3b9a7ce36b5a9155bc44b35b73372061ffe8a80d501ba3cb37f9"
   }
  }
 },
 "nbformat": 4,
 "nbformat_minor": 2
}
